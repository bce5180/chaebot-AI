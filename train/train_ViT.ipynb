{
 "cells": [
  {
   "cell_type": "markdown",
   "id": "2de9ac59-729f-4d28-afd6-ccbd2869593b",
   "metadata": {},
   "source": [
    "# Data preprocessing"
   ]
  },
  {
   "cell_type": "code",
   "execution_count": 1,
   "id": "6e26e258-47c9-43fc-8c7e-e5456a19a455",
   "metadata": {
    "scrolled": true
   },
   "outputs": [
    {
     "name": "stdout",
     "output_type": "stream",
     "text": [
      "Defaulting to user installation because normal site-packages is not writeable\n",
      "Requirement already satisfied: pywavelets in /home/jangmin/.local/lib/python3.11/site-packages (1.8.0)\n",
      "Requirement already satisfied: tensorflow in /home/jangmin/.local/lib/python3.11/site-packages (2.19.0)\n",
      "Requirement already satisfied: matplotlib in /home/jangmin/.local/lib/python3.11/site-packages (3.10.3)\n",
      "Requirement already satisfied: numpy<3,>=1.23 in /opt/conda/lib/python3.11/site-packages (from pywavelets) (2.1.3)\n",
      "Requirement already satisfied: absl-py>=1.0.0 in /home/jangmin/.local/lib/python3.11/site-packages (from tensorflow) (2.2.2)\n",
      "Requirement already satisfied: astunparse>=1.6.0 in /opt/conda/lib/python3.11/site-packages (from tensorflow) (1.6.3)\n",
      "Requirement already satisfied: flatbuffers>=24.3.25 in /home/jangmin/.local/lib/python3.11/site-packages (from tensorflow) (25.2.10)\n",
      "Requirement already satisfied: gast!=0.5.0,!=0.5.1,!=0.5.2,>=0.2.1 in /home/jangmin/.local/lib/python3.11/site-packages (from tensorflow) (0.6.0)\n",
      "Requirement already satisfied: google-pasta>=0.1.1 in /home/jangmin/.local/lib/python3.11/site-packages (from tensorflow) (0.2.0)\n",
      "Requirement already satisfied: libclang>=13.0.0 in /home/jangmin/.local/lib/python3.11/site-packages (from tensorflow) (18.1.1)\n",
      "Requirement already satisfied: opt-einsum>=2.3.2 in /home/jangmin/.local/lib/python3.11/site-packages (from tensorflow) (3.4.0)\n",
      "Requirement already satisfied: packaging in /opt/conda/lib/python3.11/site-packages (from tensorflow) (24.2)\n",
      "Requirement already satisfied: protobuf!=4.21.0,!=4.21.1,!=4.21.2,!=4.21.3,!=4.21.4,!=4.21.5,<6.0.0dev,>=3.20.3 in /opt/conda/lib/python3.11/site-packages (from tensorflow) (5.29.4)\n",
      "Requirement already satisfied: requests<3,>=2.21.0 in /opt/conda/lib/python3.11/site-packages (from tensorflow) (2.32.3)\n",
      "Requirement already satisfied: setuptools in /opt/conda/lib/python3.11/site-packages (from tensorflow) (75.8.0)\n",
      "Requirement already satisfied: six>=1.12.0 in /opt/conda/lib/python3.11/site-packages (from tensorflow) (1.17.0)\n",
      "Requirement already satisfied: termcolor>=1.1.0 in /home/jangmin/.local/lib/python3.11/site-packages (from tensorflow) (3.1.0)\n",
      "Requirement already satisfied: typing-extensions>=3.6.6 in /opt/conda/lib/python3.11/site-packages (from tensorflow) (4.12.2)\n",
      "Requirement already satisfied: wrapt>=1.11.0 in /home/jangmin/.local/lib/python3.11/site-packages (from tensorflow) (1.17.2)\n",
      "Requirement already satisfied: grpcio<2.0,>=1.24.3 in /home/jangmin/.local/lib/python3.11/site-packages (from tensorflow) (1.71.0)\n",
      "Requirement already satisfied: tensorboard~=2.19.0 in /home/jangmin/.local/lib/python3.11/site-packages (from tensorflow) (2.19.0)\n",
      "Requirement already satisfied: keras>=3.5.0 in /home/jangmin/.local/lib/python3.11/site-packages (from tensorflow) (3.10.0)\n",
      "Requirement already satisfied: h5py>=3.11.0 in /home/jangmin/.local/lib/python3.11/site-packages (from tensorflow) (3.13.0)\n",
      "Requirement already satisfied: ml-dtypes<1.0.0,>=0.5.1 in /home/jangmin/.local/lib/python3.11/site-packages (from tensorflow) (0.5.1)\n",
      "Requirement already satisfied: tensorflow-io-gcs-filesystem>=0.23.1 in /home/jangmin/.local/lib/python3.11/site-packages (from tensorflow) (0.37.1)\n",
      "Requirement already satisfied: contourpy>=1.0.1 in /home/jangmin/.local/lib/python3.11/site-packages (from matplotlib) (1.3.2)\n",
      "Requirement already satisfied: cycler>=0.10 in /home/jangmin/.local/lib/python3.11/site-packages (from matplotlib) (0.12.1)\n",
      "Requirement already satisfied: fonttools>=4.22.0 in /home/jangmin/.local/lib/python3.11/site-packages (from matplotlib) (4.58.0)\n",
      "Requirement already satisfied: kiwisolver>=1.3.1 in /home/jangmin/.local/lib/python3.11/site-packages (from matplotlib) (1.4.8)\n",
      "Requirement already satisfied: pillow>=8 in /opt/conda/lib/python3.11/site-packages (from matplotlib) (11.0.0)\n",
      "Requirement already satisfied: pyparsing>=2.3.1 in /home/jangmin/.local/lib/python3.11/site-packages (from matplotlib) (3.2.3)\n",
      "Requirement already satisfied: python-dateutil>=2.7 in /opt/conda/lib/python3.11/site-packages (from matplotlib) (2.9.0.post0)\n",
      "Requirement already satisfied: wheel<1.0,>=0.23.0 in /opt/conda/lib/python3.11/site-packages (from astunparse>=1.6.0->tensorflow) (0.45.1)\n",
      "Requirement already satisfied: rich in /opt/conda/lib/python3.11/site-packages (from keras>=3.5.0->tensorflow) (13.9.4)\n",
      "Requirement already satisfied: namex in /home/jangmin/.local/lib/python3.11/site-packages (from keras>=3.5.0->tensorflow) (0.0.9)\n",
      "Requirement already satisfied: optree in /opt/conda/lib/python3.11/site-packages (from keras>=3.5.0->tensorflow) (0.14.0)\n",
      "Requirement already satisfied: charset_normalizer<4,>=2 in /opt/conda/lib/python3.11/site-packages (from requests<3,>=2.21.0->tensorflow) (3.4.1)\n",
      "Requirement already satisfied: idna<4,>=2.5 in /opt/conda/lib/python3.11/site-packages (from requests<3,>=2.21.0->tensorflow) (3.10)\n",
      "Requirement already satisfied: urllib3<3,>=1.21.1 in /opt/conda/lib/python3.11/site-packages (from requests<3,>=2.21.0->tensorflow) (2.3.0)\n",
      "Requirement already satisfied: certifi>=2017.4.17 in /opt/conda/lib/python3.11/site-packages (from requests<3,>=2.21.0->tensorflow) (2024.12.14)\n",
      "Requirement already satisfied: markdown>=2.6.8 in /home/jangmin/.local/lib/python3.11/site-packages (from tensorboard~=2.19.0->tensorflow) (3.8)\n",
      "Requirement already satisfied: tensorboard-data-server<0.8.0,>=0.7.0 in /home/jangmin/.local/lib/python3.11/site-packages (from tensorboard~=2.19.0->tensorflow) (0.7.2)\n",
      "Requirement already satisfied: werkzeug>=1.0.1 in /home/jangmin/.local/lib/python3.11/site-packages (from tensorboard~=2.19.0->tensorflow) (3.1.3)\n",
      "Requirement already satisfied: MarkupSafe>=2.1.1 in /opt/conda/lib/python3.11/site-packages (from werkzeug>=1.0.1->tensorboard~=2.19.0->tensorflow) (3.0.2)\n",
      "Requirement already satisfied: markdown-it-py>=2.2.0 in /opt/conda/lib/python3.11/site-packages (from rich->keras>=3.5.0->tensorflow) (3.0.0)\n",
      "Requirement already satisfied: pygments<3.0.0,>=2.13.0 in /opt/conda/lib/python3.11/site-packages (from rich->keras>=3.5.0->tensorflow) (2.19.1)\n",
      "Requirement already satisfied: mdurl~=0.1 in /opt/conda/lib/python3.11/site-packages (from markdown-it-py>=2.2.0->rich->keras>=3.5.0->tensorflow) (0.1.2)\n"
     ]
    }
   ],
   "source": [
    "!pip install pywavelets tensorflow matplotlib"
   ]
  },
  {
   "cell_type": "code",
   "execution_count": 2,
   "id": "0aa98e6c-4edc-4c05-a553-a0c5c19e17be",
   "metadata": {
    "scrolled": true
   },
   "outputs": [
    {
     "name": "stderr",
     "output_type": "stream",
     "text": [
      "2025-06-09 05:21:04.994133: I tensorflow/core/util/port.cc:153] oneDNN custom operations are on. You may see slightly different numerical results due to floating-point round-off errors from different computation orders. To turn them off, set the environment variable `TF_ENABLE_ONEDNN_OPTS=0`.\n",
      "2025-06-09 05:21:05.012338: E external/local_xla/xla/stream_executor/cuda/cuda_fft.cc:467] Unable to register cuFFT factory: Attempting to register factory for plugin cuFFT when one has already been registered\n",
      "WARNING: All log messages before absl::InitializeLog() is called are written to STDERR\n",
      "E0000 00:00:1749446465.032382   32877 cuda_dnn.cc:8579] Unable to register cuDNN factory: Attempting to register factory for plugin cuDNN when one has already been registered\n",
      "E0000 00:00:1749446465.038630   32877 cuda_blas.cc:1407] Unable to register cuBLAS factory: Attempting to register factory for plugin cuBLAS when one has already been registered\n",
      "W0000 00:00:1749446465.058371   32877 computation_placer.cc:177] computation placer already registered. Please check linkage and avoid linking the same target more than once.\n",
      "W0000 00:00:1749446465.058477   32877 computation_placer.cc:177] computation placer already registered. Please check linkage and avoid linking the same target more than once.\n",
      "W0000 00:00:1749446465.058483   32877 computation_placer.cc:177] computation placer already registered. Please check linkage and avoid linking the same target more than once.\n",
      "W0000 00:00:1749446465.058488   32877 computation_placer.cc:177] computation placer already registered. Please check linkage and avoid linking the same target more than once.\n",
      "2025-06-09 05:21:05.071412: I tensorflow/core/platform/cpu_feature_guard.cc:210] This TensorFlow binary is optimized to use available CPU instructions in performance-critical operations.\n",
      "To enable the following instructions: AVX2 AVX512F AVX512_VNNI FMA, in other operations, rebuild TensorFlow with the appropriate compiler flags.\n"
     ]
    }
   ],
   "source": [
    "import os\n",
    "import numpy as np\n",
    "import librosa\n",
    "import tensorflow as tf\n",
    "from tensorflow.keras.models import Sequential\n",
    "from tensorflow.keras.layers import Dense, Flatten\n",
    "from tensorflow.keras.applications import EfficientNetB3\n",
    "from sklearn.model_selection import train_test_split\n",
    "from sklearn.preprocessing import LabelEncoder\n",
    "import pywt\n",
    "import torch"
   ]
  },
  {
   "cell_type": "code",
   "execution_count": 3,
   "id": "8cd40f6e-f9b7-476a-ac10-9675baa3deea",
   "metadata": {},
   "outputs": [],
   "source": [
    "def load_audio_files_cwt(directory, num_classes=6):\n",
    "    files = os.listdir(directory)\n",
    "    audios = []\n",
    "    labels = []\n",
    "\n",
    "    target_duration = 0.05  # 50ms\n",
    "    sr = 22050\n",
    "    target_freq_bins = 128\n",
    "    target_time_steps = 1024\n",
    "\n",
    "    for file in files:\n",
    "        if file.endswith('.wav'):\n",
    "            path = os.path.join(directory, file)\n",
    "\n",
    "            # 다중 라벨 처리: [0, 1, 0, 0, 0, 0] 형식으로 변환\n",
    "            label_index = int(file[:4])  # 예: 파일 이름의 앞 4자리\n",
    "\n",
    "            # 오디오 로드\n",
    "            audio, _ = librosa.load(path, sr=sr)\n",
    "\n",
    "            # 길이 맞추기 (50ms 고정)\n",
    "            target_length = int(target_duration * sr)\n",
    "            if len(audio) < target_length:\n",
    "                audio = np.pad(audio, (0, target_length - len(audio)), mode='constant')\n",
    "            else:\n",
    "                onset_frames = librosa.onset.onset_detect(y=audio, sr=sr, units=\"samples\")\n",
    "                onset_sample = onset_frames[0] if len(onset_frames) > 0 else 0\n",
    "                end_sample = onset_sample + target_length\n",
    "                audio = audio[onset_sample:end_sample]\n",
    "                if len(audio) < target_length:\n",
    "                    audio = np.pad(audio, (0, target_length - len(audio)), mode='constant')\n",
    "\n",
    "            # Hamming 윈도우 적용\n",
    "            audio *= np.hamming(len(audio))\n",
    "\n",
    "            # CWT 변환 (1, freq_bins, time_steps)\n",
    "            scales = np.arange(1, target_freq_bins + 1)\n",
    "            cwt_matrix, _ = pywt.cwt(audio, scales, 'morl')\n",
    "            cwt_magnitude = np.abs(cwt_matrix)  # (128, time)\n",
    "\n",
    "            # 시간 축 조정 (pad or crop to 1024)\n",
    "            time_len = cwt_magnitude.shape[1]\n",
    "            if time_len < target_time_steps:\n",
    "                pad_width = target_time_steps - time_len\n",
    "                cwt_magnitude = np.pad(cwt_magnitude, ((0, 0), (0, pad_width)), mode='constant')\n",
    "            else:\n",
    "                cwt_magnitude = cwt_magnitude[:, :target_time_steps]\n",
    "\n",
    "            # (1, 128, 1024)로 reshape\n",
    "            cwt_tensor = torch.tensor(cwt_magnitude).unsqueeze(0).float()\n",
    "            audios.append(cwt_tensor.numpy())\n",
    "            labels.append(label_index)\n",
    "\n",
    "    return audios, labels"
   ]
  },
  {
   "cell_type": "code",
   "execution_count": 7,
   "id": "365eeb67-b2db-49f7-a942-98fb6cf5e3f7",
   "metadata": {
    "scrolled": true
   },
   "outputs": [
    {
     "name": "stderr",
     "output_type": "stream",
     "text": [
      "/opt/conda/lib/python3.11/site-packages/librosa/core/spectrum.py:266: UserWarning: n_fft=2048 is too large for input signal of length=1103\n",
      "  warnings.warn(\n"
     ]
    },
    {
     "name": "stdout",
     "output_type": "stream",
     "text": [
      "(1, 128, 1024)\n",
      "38572\n"
     ]
    }
   ],
   "source": [
    "audios, labels = load_audio_files_cwt('sliced')\n",
    "\n",
    "print(audios[0].shape) # (1, 128, 1024)\n",
    "print(len(audios))"
   ]
  },
  {
   "cell_type": "code",
   "execution_count": 8,
   "id": "0324592f-c10e-4589-8642-cd1e37122b06",
   "metadata": {
    "scrolled": true
   },
   "outputs": [
    {
     "name": "stdout",
     "output_type": "stream",
     "text": [
      "[[1 0 0 1 0 0]\n",
      " [1 0 0 0 0 1]\n",
      " [0 0 1 1 0 0]\n",
      " ...\n",
      " [0 1 0 0 0 1]\n",
      " [0 0 0 0 0 1]\n",
      " [1 0 0 0 0 0]]\n"
     ]
    }
   ],
   "source": [
    "# 라벨과 원-핫 인코딩 벡터 매핑 딕셔너리\n",
    "label_to_multihot = {\n",
    "    0: [0,0,0,0,0,0],\n",
    "    1: [1,0,0,0,0,0],\n",
    "    2: [0,1,0,0,0,0],\n",
    "    6: [0,0,0,1,0,0],\n",
    "    8: [0,0,0,0,1,0],\n",
    "    11: [0,0,0,0,0,1],\n",
    "    12: [0,0,1,0,0,0],\n",
    "    106: [1,0,0,1,0,0],\n",
    "    108: [1,0,0,0,1,0],\n",
    "    111: [1,0,0,0,0,1],\n",
    "    206: [0,1,0,1,0,0],\n",
    "    208: [0,1,0,0,1,0],\n",
    "    211: [0,1,0,0,0,1],\n",
    "    608: [0,0,0,1,1,0],\n",
    "    611: [0,0,0,1,0,1],\n",
    "    612: [0,0,1,1,0,0],\n",
    "    811: [0,0,0,0,1,1],\n",
    "    812: [0,0,1,0,1,0],\n",
    "    1112: [0,0,1,0,0,1],\n",
    "}\n",
    "\n",
    "# 원-핫 인코딩 변환 함수\n",
    "def convert_to_multihot(labels, label_to_onehot):\n",
    "    multihot_encoded = np.array([label_to_multihot[label] for label in labels])\n",
    "    return multihot_encoded\n",
    "\n",
    "# 라벨 변환\n",
    "labels_multihot = convert_to_multihot(labels, label_to_multihot)\n",
    "print(labels_multihot)"
   ]
  },
  {
   "cell_type": "code",
   "execution_count": 9,
   "id": "ce30e59d-af56-4779-885b-66b287dfdfb4",
   "metadata": {
    "scrolled": true
   },
   "outputs": [
    {
     "name": "stdout",
     "output_type": "stream",
     "text": [
      "Label: [1, 0, 0, 1, 0, 0], Train: 1950, Test: 50\n",
      "Label: [1, 0, 0, 0, 0, 1], Train: 1950, Test: 50\n",
      "Label: [0, 0, 1, 1, 0, 0], Train: 1950, Test: 50\n",
      "Label: [0, 0, 0, 1, 1, 0], Train: 1950, Test: 50\n",
      "Label: [0, 0, 1, 0, 0, 0], Train: 2287, Test: 50\n",
      "Label: [1, 0, 0, 0, 0, 0], Train: 1950, Test: 50\n",
      "Label: [0, 1, 0, 1, 0, 0], Train: 1950, Test: 50\n",
      "Label: [0, 1, 0, 0, 0, 0], Train: 1950, Test: 50\n",
      "Label: [0, 1, 0, 0, 1, 0], Train: 1950, Test: 50\n",
      "Label: [0, 0, 0, 0, 0, 1], Train: 1950, Test: 50\n",
      "Label: [0, 0, 0, 0, 0, 0], Train: 1950, Test: 50\n",
      "Label: [0, 0, 0, 0, 1, 1], Train: 1950, Test: 50\n",
      "Label: [1, 0, 0, 0, 1, 0], Train: 1950, Test: 50\n",
      "Label: [0, 0, 1, 0, 1, 0], Train: 1950, Test: 50\n",
      "Label: [0, 0, 1, 0, 0, 1], Train: 1950, Test: 50\n",
      "Label: [0, 0, 0, 1, 0, 0], Train: 1950, Test: 50\n",
      "Label: [0, 0, 0, 1, 0, 1], Train: 1950, Test: 50\n",
      "Label: [0, 1, 0, 0, 0, 1], Train: 1950, Test: 50\n",
      "Label: [0, 0, 0, 0, 1, 0], Train: 2185, Test: 50\n"
     ]
    }
   ],
   "source": [
    "import numpy as np\n",
    "from collections import defaultdict\n",
    "\n",
    "# 다중 라벨 데이터를 균형 있게 샘플링하는 함수\n",
    "def balanced_sampling(X, y, sample_size=50, random_state=42):\n",
    "    np.random.seed(random_state)\n",
    "    \n",
    "    # 라벨을 문자열로 변환하여 그룹화 (mutable 자료형인 리스트는 직접 비교 불가하기 때문)\n",
    "    label_dict = defaultdict(list)\n",
    "    \n",
    "    for idx, label in enumerate(y):\n",
    "        label_str = str(label.tolist())  # 리스트를 문자열로 변환하여 key로 사용\n",
    "        label_dict[label_str].append(idx)\n",
    "    \n",
    "    train_indices = []\n",
    "    test_indices = []\n",
    "    \n",
    "    for label_str, indices in label_dict.items():\n",
    "        np.random.shuffle(indices)  # 랜덤하게 섞기\n",
    "        \n",
    "        test_sample = indices[:50]  # 테스트 세트: 50개 고정\n",
    "        train_sample = indices[50:]  # 나머지는 훈련 세트\n",
    "        \n",
    "        test_indices.extend(test_sample)\n",
    "        train_indices.extend(train_sample)\n",
    "        \n",
    "        print(f\"Label: {label_str}, Train: {len(train_sample)}, Test: {len(test_sample)}\")\n",
    "    \n",
    "    # 최종 선택된 데이터 추출\n",
    "    X_train, X_test = X[train_indices], X[test_indices]\n",
    "    y_train, y_test = y[train_indices], y[test_indices]\n",
    "    \n",
    "    return X_train, X_test, y_train, y_test\n",
    "\n",
    "X = np.array(audios)  # 리스트 -> NumPy 배열 변환\n",
    "y = np.array(labels_multihot)  # 리스트 -> NumPy 배열 변환\n",
    "\n",
    "# 데이터셋 분할 실행\n",
    "X_train, X_test, y_train, y_test = balanced_sampling(X, y)"
   ]
  },
  {
   "cell_type": "markdown",
   "id": "c740a6ee-5a2b-4c2b-b3d4-c8fbb5aadb5e",
   "metadata": {},
   "source": [
    "# training"
   ]
  },
  {
   "cell_type": "code",
   "execution_count": 10,
   "id": "200e4165-c27b-41ed-8929-6d623308ce81",
   "metadata": {},
   "outputs": [
    {
     "name": "stdout",
     "output_type": "stream",
     "text": [
      "cuda\n"
     ]
    }
   ],
   "source": [
    "import torch\n",
    "import torch.nn as nn\n",
    "import torch.optim as optim\n",
    "from torch.utils.data import Dataset, DataLoader\n",
    "import torch.nn.functional as F\n",
    "import torchvision.transforms as transforms\n",
    "from tqdm import tqdm\n",
    "import copy\n",
    "import timm"
   ]
  },
  {
   "cell_type": "code",
   "execution_count": 11,
   "id": "6746d4a0-b32f-4b57-b251-a5be0d391a5b",
   "metadata": {},
   "outputs": [],
   "source": [
    "class ViTForCWTMultiLabel(nn.Module):\n",
    "    def __init__(self, num_classes):\n",
    "        super(ViTForCWTMultiLabel, self).__init__()\n",
    "\n",
    "        self.vit = timm.create_model(\n",
    "            'vit_base_patch16_224',\n",
    "            pretrained=True,\n",
    "            img_size=(128, 1024),   # CWT 해상도\n",
    "            in_chans=3,             # 1채널 → 3채널 repeat\n",
    "            num_classes=num_classes\n",
    "        )\n",
    "\n",
    "    def forward(self, x):\n",
    "        if x.shape[1] == 1:\n",
    "            x = x.repeat(1, 3, 1, 1)  # (B, 1, H, W) → (B, 3, H, W)\n",
    "        return self.vit(x)  # logits 반환 (sigmoid는 inference 시 따로 적용)"
   ]
  },
  {
   "cell_type": "code",
   "execution_count": 12,
   "id": "70e74eb1-dcba-4afb-a4dd-735f3cbf0d3e",
   "metadata": {},
   "outputs": [
    {
     "data": {
      "text/plain": [
       "torch.Size([1, 128, 1024])"
      ]
     },
     "execution_count": 12,
     "metadata": {},
     "output_type": "execute_result"
    }
   ],
   "source": [
    "# 커스텀 데이터셋 클래스 정의\n",
    "class AudioDataset(Dataset):\n",
    "    def __init__(self, audios, labels, max_time_dim=None, transform=None):\n",
    "        self.audios = audios\n",
    "        self.labels = labels\n",
    "        self.max_time_dim = max_time_dim or max([audio.shape[-1] for audio in audios])  # 최대 시간 축 크기 찾기\n",
    "        self.transform = transform\n",
    "\n",
    "    def __len__(self):\n",
    "        return len(self.audios)\n",
    "\n",
    "    def __getitem__(self, idx):\n",
    "        sample = self.audios[idx]  # NumPy 배열로 된 오디오 데이터를 로드\n",
    "        label = self.labels[idx]\n",
    "\n",
    "        # NumPy 배열을 텐서로 변환\n",
    "        sample = torch.tensor(sample).float()  # [1, 1026, N] 형식\n",
    "\n",
    "        # 시간 축을 기준으로 패딩 적용하여 최대 시간 길이에 맞춤\n",
    "        time_padding = self.max_time_dim - sample.shape[-1]\n",
    "        if time_padding > 0:\n",
    "            sample = torch.nn.functional.pad(sample, (0, time_padding), mode='constant', value=0)\n",
    "\n",
    "        if self.transform:\n",
    "            sample = self.transform(sample)\n",
    "\n",
    "        return sample, label\n",
    "\n",
    "# 데이터 증강 및 전처리 변환 설정 (이미 텐서로 변환되었으므로 ToTensor()는 불필요)\n",
    "train_transform = None\n",
    "test_transform = None\n",
    "\n",
    "# PyTorch Dataset 생성\n",
    "train_dataset = AudioDataset(X_train, y_train, transform=train_transform)\n",
    "test_dataset = AudioDataset(X_test, y_test, transform=test_transform)\n",
    "\n",
    "# DataLoader 설정\n",
    "train_loader = DataLoader(train_dataset, batch_size=32, shuffle=True)\n",
    "test_loader = DataLoader(test_dataset, batch_size=32, shuffle=False)\n",
    "\n",
    "sample, label = train_dataset[0]\n",
    "sample_size = sample.size()\n",
    "sample_size"
   ]
  },
  {
   "cell_type": "code",
   "execution_count": 13,
   "id": "30c2c36e-3c8c-4714-a3e8-7d0acf22a832",
   "metadata": {},
   "outputs": [],
   "source": [
    "import torch\n",
    "import torch.optim as optim\n",
    "from torch.utils.data import DataLoader\n",
    "from tqdm import tqdm\n",
    "import copy\n",
    "import os\n",
    "import matplotlib.pyplot as plt\n",
    "\n",
    "# 모델, 옵티마이저, 학습 기록 저장 함수\n",
    "def save_checkpoint(epoch, model, optimizer, history, best_val_accuracy, filename=\"checkpoint.pth\"):\n",
    "    checkpoint = {\n",
    "        'epoch': epoch,\n",
    "        'model_state_dict': model.state_dict(),\n",
    "        'optimizer_state_dict': optimizer.state_dict(),\n",
    "        'history': history,\n",
    "        'best_val_accuracy': best_val_accuracy\n",
    "    }\n",
    "    torch.save(checkpoint, filename)\n",
    "    print(f\"Checkpoint saved at epoch {epoch+1}\")\n",
    "\n",
    "# 저장된 체크포인트 불러오기\n",
    "def load_checkpoint(filename, model, optimizer):\n",
    "    if os.path.isfile(filename):\n",
    "        checkpoint = torch.load(filename)\n",
    "        model.load_state_dict(checkpoint['model_state_dict'])\n",
    "        optimizer.load_state_dict(checkpoint['optimizer_state_dict'])\n",
    "        epoch = checkpoint['epoch']\n",
    "        history = checkpoint['history']\n",
    "        best_val_accuracy = checkpoint['best_val_accuracy']\n",
    "        print(f\"Checkpoint loaded from epoch {epoch+1}\")\n",
    "        return epoch, history, best_val_accuracy\n",
    "    else:\n",
    "        print(\"No checkpoint found.\")\n",
    "        return 0, {'train_loss': [], 'train_acc': [], 'val_loss': [], 'val_acc': []}, 0.0\n",
    "\n",
    "# 학습 기록 그래프 출력 함수\n",
    "def plot_history(history):\n",
    "    epochs = range(1, len(history['train_loss']) + 1)\n",
    "    \n",
    "    plt.figure(figsize=(12, 5))\n",
    "\n",
    "    # Loss Plot\n",
    "    plt.subplot(1, 2, 1)\n",
    "    plt.plot(epochs, history['train_loss'], label='Train Loss')\n",
    "    plt.plot(epochs, history['val_loss'], label='Validation Loss')\n",
    "    plt.xlabel('Epochs')\n",
    "    plt.ylabel('Loss')\n",
    "    plt.title('Loss History')\n",
    "    plt.legend()\n",
    "\n",
    "    # Accuracy Plot\n",
    "    plt.subplot(1, 2, 2)\n",
    "    plt.plot(epochs, history['train_acc'], label='Train Accuracy')\n",
    "    plt.plot(epochs, history['val_acc'], label='Validation Accuracy')\n",
    "    plt.xlabel('Epochs')\n",
    "    plt.ylabel('Accuracy')\n",
    "    plt.title('Accuracy History')\n",
    "    plt.legend()\n",
    "\n",
    "    plt.tight_layout()\n",
    "    plt.show()"
   ]
  },
  {
   "cell_type": "code",
   "execution_count": 14,
   "id": "a128cce6-c0b1-406b-94e2-0e4e2fd1e818",
   "metadata": {},
   "outputs": [],
   "source": [
    "def evaluate(model, loader, classification_criterion):\n",
    "    model.eval()\n",
    "    running_loss = 0.0\n",
    "    correct_per_sample = 0  \n",
    "    total_samples = 0\n",
    "\n",
    "    with torch.no_grad():\n",
    "        for inputs, labels in loader:\n",
    "            inputs = inputs.to(device)\n",
    "            labels = labels.to(device).float()\n",
    "\n",
    "            class_output_logits = model(inputs)\n",
    "            classification_loss = classification_criterion(class_output_logits, labels)\n",
    "            running_loss += classification_loss.item()\n",
    "\n",
    "            # Sigmoid 적용 후 이진화\n",
    "            class_output = torch.sigmoid(class_output_logits)\n",
    "            preds = (class_output > 0.5).int()\n",
    "\n",
    "            # 샘플 단위 정확도\n",
    "            correct_per_sample += (preds == labels).all(dim=1).sum().item()\n",
    "            total_samples += labels.shape[0]  \n",
    "\n",
    "    accuracy = correct_per_sample / total_samples\n",
    "    return running_loss / len(loader), accuracy"
   ]
  },
  {
   "cell_type": "code",
   "execution_count": 15,
   "id": "6b1593f7-1d28-463b-afe6-f540daf1b472",
   "metadata": {},
   "outputs": [],
   "source": [
    "def train_and_evaluate(model, train_loader, test_loader, optimizer, num_epochs, device, scheduler, checkpoint_file='checkpoint.pth'):\n",
    "    start_epoch, history, best_val_accuracy = load_checkpoint(checkpoint_file, model, optimizer)\n",
    "    best_model_wts = copy.deepcopy(model.state_dict())\n",
    "\n",
    "    classification_criterion = nn.BCEWithLogitsLoss()\n",
    "\n",
    "    patience = 10\n",
    "    early_stop_counter = 0\n",
    "\n",
    "    for epoch in range(start_epoch, num_epochs):\n",
    "        model.train()\n",
    "        running_loss = 0.0\n",
    "        correct = 0\n",
    "        total = 0\n",
    "\n",
    "        print(f\"Epoch [{epoch+1}/{num_epochs}] training...\")\n",
    "\n",
    "\n",
    "        for inputs, labels in tqdm(train_loader, desc=\"Training\"):\n",
    "            inputs = inputs.to(device)\n",
    "            labels = labels.to(device).float()\n",
    "\n",
    "            optimizer.zero_grad()\n",
    "            class_output_logits = model(inputs)\n",
    "            classification_loss = classification_criterion(class_output_logits, labels)\n",
    "\n",
    "            loss = classification_loss\n",
    "            loss.backward()\n",
    "            optimizer.step()\n",
    "\n",
    "            running_loss += loss.item()\n",
    "\n",
    "            predicted = (torch.sigmoid(class_output_logits) > 0.5).int()\n",
    "            correct += (predicted == labels).all(dim=1).sum().item()\n",
    "            total += labels.shape[0]\n",
    "\n",
    "        train_loss = running_loss / len(train_loader)\n",
    "        train_accuracy = correct / total\n",
    "\n",
    "        print(\"Evaluating on validation set...\")\n",
    "        val_loss, val_accuracy = evaluate(model, test_loader, classification_criterion)\n",
    "\n",
    "        print(f\"Epoch [{epoch+1}/{num_epochs}], \"\n",
    "              f\"Loss: {train_loss:.4f}, Acc: {train_accuracy:.4f}, \"\n",
    "              f\"Val_Loss: {val_loss:.4f}, Val_Acc: {val_accuracy:.4f}\")\n",
    "\n",
    "        history['train_loss'].append(train_loss)\n",
    "        history['train_acc'].append(train_accuracy)\n",
    "        history['val_loss'].append(val_loss)\n",
    "        history['val_acc'].append(val_accuracy)\n",
    "\n",
    "        if val_accuracy > best_val_accuracy:\n",
    "            best_val_accuracy = val_accuracy\n",
    "            best_model_wts = copy.deepcopy(model.state_dict())\n",
    "            early_stop_counter = 0  \n",
    "            print(f\"🔥 New best model with val_accuracy: {val_accuracy:.4f} 🔥\")\n",
    "        else:\n",
    "            early_stop_counter += 1\n",
    "            print(f\"🛑 No improvement. EarlyStop counter: {early_stop_counter}/{patience}\")\n",
    "            if early_stop_counter >= patience:\n",
    "                print(\"❗ Early stopping triggered.\")\n",
    "                break\n",
    "\n",
    "        save_checkpoint(epoch, model, optimizer, history, best_val_accuracy, checkpoint_file)\n",
    "\n",
    "        # best 모델 저장\n",
    "        model.load_state_dict(best_model_wts)\n",
    "        torch.save(model.state_dict(), 'best_model.pth')\n",
    "\n",
    "        # scheduler.step()\n",
    "        scheduler.step() \n",
    "        print(f\"Updated Learning Rate: {scheduler.get_last_lr()[0]:.6f}\")\n",
    "\n",
    "    return model, history\n"
   ]
  },
  {
   "cell_type": "code",
   "execution_count": 20,
   "id": "5495ed2d-7bec-4cce-a2f4-69f0858dbfc9",
   "metadata": {
    "scrolled": true
   },
   "outputs": [
    {
     "data": {
      "application/vnd.jupyter.widget-view+json": {
       "model_id": "5b6ee185750943f0b9e80ac15393cb20",
       "version_major": 2,
       "version_minor": 0
      },
      "text/plain": [
       "model.safetensors:   0%|          | 0.00/346M [00:00<?, ?B/s]"
      ]
     },
     "metadata": {},
     "output_type": "display_data"
    },
    {
     "name": "stdout",
     "output_type": "stream",
     "text": [
      "No checkpoint found.\n",
      "Epoch [1/20] training...\n"
     ]
    },
    {
     "name": "stderr",
     "output_type": "stream",
     "text": [
      "                                                                                                                                         "
     ]
    },
    {
     "name": "stdout",
     "output_type": "stream",
     "text": [
      "Evaluating on validation set...\n",
      "Epoch [1/20], Loss: 0.3140, Acc: 0.4414, Val_Loss: 0.2565, Val_Acc: 0.5589\n",
      "🔥 New best model with val_accuracy: 0.5589 🔥\n",
      "Checkpoint saved at epoch 1\n",
      "Updated Learning Rate: 0.000100\n",
      "Epoch [2/20] training...\n"
     ]
    },
    {
     "name": "stderr",
     "output_type": "stream",
     "text": [
      "                                                                                                                                         "
     ]
    },
    {
     "name": "stdout",
     "output_type": "stream",
     "text": [
      "Evaluating on validation set...\n",
      "Epoch [2/20], Loss: 0.2325, Acc: 0.5992, Val_Loss: 0.2291, Val_Acc: 0.6095\n",
      "🔥 New best model with val_accuracy: 0.6095 🔥\n",
      "Checkpoint saved at epoch 2\n",
      "Updated Learning Rate: 0.000100\n",
      "Epoch [3/20] training...\n"
     ]
    },
    {
     "name": "stderr",
     "output_type": "stream",
     "text": [
      "                                                                                                                                         "
     ]
    },
    {
     "name": "stdout",
     "output_type": "stream",
     "text": [
      "Evaluating on validation set...\n",
      "Epoch [3/20], Loss: 0.2049, Acc: 0.6503, Val_Loss: 0.2050, Val_Acc: 0.6568\n",
      "🔥 New best model with val_accuracy: 0.6568 🔥\n",
      "Checkpoint saved at epoch 3\n",
      "Updated Learning Rate: 0.000100\n",
      "Epoch [4/20] training...\n"
     ]
    },
    {
     "name": "stderr",
     "output_type": "stream",
     "text": [
      "                                                                                                                                         "
     ]
    },
    {
     "name": "stdout",
     "output_type": "stream",
     "text": [
      "Evaluating on validation set...\n",
      "Epoch [4/20], Loss: 0.1844, Acc: 0.6874, Val_Loss: 0.2219, Val_Acc: 0.6179\n",
      "Checkpoint saved at epoch 4\n",
      "Updated Learning Rate: 0.000100\n",
      "Epoch [5/20] training...\n"
     ]
    },
    {
     "name": "stderr",
     "output_type": "stream",
     "text": [
      "                                                                                                                                         "
     ]
    },
    {
     "name": "stdout",
     "output_type": "stream",
     "text": [
      "Evaluating on validation set...\n",
      "Epoch [5/20], Loss: 0.1849, Acc: 0.6866, Val_Loss: 0.1822, Val_Acc: 0.6863\n",
      "🔥 New best model with val_accuracy: 0.6863 🔥\n",
      "Checkpoint saved at epoch 5\n",
      "Updated Learning Rate: 0.000090\n",
      "Epoch [6/20] training...\n"
     ]
    },
    {
     "name": "stderr",
     "output_type": "stream",
     "text": [
      "                                                                                                                                         "
     ]
    },
    {
     "name": "stdout",
     "output_type": "stream",
     "text": [
      "Evaluating on validation set...\n",
      "Epoch [6/20], Loss: 0.1632, Acc: 0.7265, Val_Loss: 0.1737, Val_Acc: 0.7221\n",
      "🔥 New best model with val_accuracy: 0.7221 🔥\n",
      "Checkpoint saved at epoch 6\n",
      "Updated Learning Rate: 0.000090\n",
      "Epoch [7/20] training...\n"
     ]
    },
    {
     "name": "stderr",
     "output_type": "stream",
     "text": [
      "                                                                                                                                         "
     ]
    },
    {
     "name": "stdout",
     "output_type": "stream",
     "text": [
      "Evaluating on validation set...\n",
      "Epoch [7/20], Loss: 0.1476, Acc: 0.7542, Val_Loss: 0.1825, Val_Acc: 0.7200\n",
      "Checkpoint saved at epoch 7\n",
      "Updated Learning Rate: 0.000090\n",
      "Epoch [8/20] training...\n"
     ]
    },
    {
     "name": "stderr",
     "output_type": "stream",
     "text": [
      "                                                                                                                                         "
     ]
    },
    {
     "name": "stdout",
     "output_type": "stream",
     "text": [
      "Evaluating on validation set...\n",
      "Epoch [8/20], Loss: 0.1457, Acc: 0.7568, Val_Loss: 0.1748, Val_Acc: 0.7189\n",
      "Checkpoint saved at epoch 8\n",
      "Updated Learning Rate: 0.000090\n",
      "Epoch [9/20] training...\n"
     ]
    },
    {
     "name": "stderr",
     "output_type": "stream",
     "text": [
      "                                                                                                                                         "
     ]
    },
    {
     "name": "stdout",
     "output_type": "stream",
     "text": [
      "Evaluating on validation set...\n",
      "Epoch [9/20], Loss: 0.1455, Acc: 0.7564, Val_Loss: 0.1644, Val_Acc: 0.7168\n",
      "Checkpoint saved at epoch 9\n",
      "Updated Learning Rate: 0.000090\n",
      "Epoch [10/20] training...\n"
     ]
    },
    {
     "name": "stderr",
     "output_type": "stream",
     "text": [
      "                                                                                                                                         "
     ]
    },
    {
     "name": "stdout",
     "output_type": "stream",
     "text": [
      "Evaluating on validation set...\n",
      "Epoch [10/20], Loss: 0.1463, Acc: 0.7571, Val_Loss: 0.1867, Val_Acc: 0.6895\n",
      "Checkpoint saved at epoch 10\n",
      "Updated Learning Rate: 0.000081\n",
      "Epoch [11/20] training...\n"
     ]
    },
    {
     "name": "stderr",
     "output_type": "stream",
     "text": [
      "                                                                                                                                         "
     ]
    },
    {
     "name": "stdout",
     "output_type": "stream",
     "text": [
      "Evaluating on validation set...\n",
      "Epoch [11/20], Loss: 0.1406, Acc: 0.7672, Val_Loss: 0.1694, Val_Acc: 0.7284\n",
      "🔥 New best model with val_accuracy: 0.7284 🔥\n",
      "Checkpoint saved at epoch 11\n",
      "Updated Learning Rate: 0.000081\n",
      "Epoch [12/20] training...\n"
     ]
    },
    {
     "name": "stderr",
     "output_type": "stream",
     "text": [
      "                                                                                                                                         "
     ]
    },
    {
     "name": "stdout",
     "output_type": "stream",
     "text": [
      "Evaluating on validation set...\n",
      "Epoch [12/20], Loss: 0.1284, Acc: 0.7862, Val_Loss: 0.1840, Val_Acc: 0.7242\n",
      "Checkpoint saved at epoch 12\n",
      "Updated Learning Rate: 0.000081\n",
      "Epoch [13/20] training...\n"
     ]
    },
    {
     "name": "stderr",
     "output_type": "stream",
     "text": [
      "                                                                                                                                         "
     ]
    },
    {
     "name": "stdout",
     "output_type": "stream",
     "text": [
      "Evaluating on validation set...\n",
      "Epoch [13/20], Loss: 0.1254, Acc: 0.7919, Val_Loss: 0.1731, Val_Acc: 0.7379\n",
      "🔥 New best model with val_accuracy: 0.7379 🔥\n",
      "Checkpoint saved at epoch 13\n",
      "Updated Learning Rate: 0.000081\n",
      "Epoch [14/20] training...\n"
     ]
    },
    {
     "name": "stderr",
     "output_type": "stream",
     "text": [
      "                                                                                                                                         "
     ]
    },
    {
     "name": "stdout",
     "output_type": "stream",
     "text": [
      "Evaluating on validation set...\n",
      "Epoch [14/20], Loss: 0.1160, Acc: 0.8068, Val_Loss: 0.1920, Val_Acc: 0.7137\n",
      "Checkpoint saved at epoch 14\n",
      "Updated Learning Rate: 0.000081\n",
      "Epoch [15/20] training...\n"
     ]
    },
    {
     "name": "stderr",
     "output_type": "stream",
     "text": [
      "                                                                                                                                         "
     ]
    },
    {
     "name": "stdout",
     "output_type": "stream",
     "text": [
      "Evaluating on validation set...\n",
      "Epoch [15/20], Loss: 0.1151, Acc: 0.8142, Val_Loss: 0.1763, Val_Acc: 0.7411\n",
      "🔥 New best model with val_accuracy: 0.7411 🔥\n",
      "Checkpoint saved at epoch 15\n",
      "Updated Learning Rate: 0.000073\n",
      "Epoch [16/20] training...\n"
     ]
    },
    {
     "name": "stderr",
     "output_type": "stream",
     "text": [
      "                                                                                                                                         "
     ]
    },
    {
     "name": "stdout",
     "output_type": "stream",
     "text": [
      "Evaluating on validation set...\n",
      "Epoch [16/20], Loss: 0.0982, Acc: 0.8412, Val_Loss: 0.1820, Val_Acc: 0.7442\n",
      "🔥 New best model with val_accuracy: 0.7442 🔥\n",
      "Checkpoint saved at epoch 16\n",
      "Updated Learning Rate: 0.000073\n",
      "Epoch [17/20] training...\n"
     ]
    },
    {
     "name": "stderr",
     "output_type": "stream",
     "text": [
      "                                                                                                                                         "
     ]
    },
    {
     "name": "stdout",
     "output_type": "stream",
     "text": [
      "Evaluating on validation set...\n",
      "Epoch [17/20], Loss: 0.0877, Acc: 0.8584, Val_Loss: 0.2053, Val_Acc: 0.7505\n",
      "🔥 New best model with val_accuracy: 0.7505 🔥\n",
      "Checkpoint saved at epoch 17\n",
      "Updated Learning Rate: 0.000073\n",
      "Epoch [18/20] training...\n"
     ]
    },
    {
     "name": "stderr",
     "output_type": "stream",
     "text": [
      "                                                                                                                                         "
     ]
    },
    {
     "name": "stdout",
     "output_type": "stream",
     "text": [
      "Evaluating on validation set...\n",
      "Epoch [18/20], Loss: 0.0788, Acc: 0.8744, Val_Loss: 0.2140, Val_Acc: 0.7653\n",
      "🔥 New best model with val_accuracy: 0.7653 🔥\n",
      "Checkpoint saved at epoch 18\n",
      "Updated Learning Rate: 0.000073\n",
      "Epoch [19/20] training...\n"
     ]
    },
    {
     "name": "stderr",
     "output_type": "stream",
     "text": [
      "                                                                                                                                         "
     ]
    },
    {
     "name": "stdout",
     "output_type": "stream",
     "text": [
      "Evaluating on validation set...\n",
      "Epoch [19/20], Loss: 0.0718, Acc: 0.8877, Val_Loss: 0.1921, Val_Acc: 0.7568\n",
      "Checkpoint saved at epoch 19\n",
      "Updated Learning Rate: 0.000073\n",
      "Epoch [20/20] training...\n"
     ]
    },
    {
     "name": "stderr",
     "output_type": "stream",
     "text": [
      "                                                                                                                                         "
     ]
    },
    {
     "name": "stdout",
     "output_type": "stream",
     "text": [
      "Evaluating on validation set...\n",
      "Epoch [20/20], Loss: 0.0705, Acc: 0.8884, Val_Loss: 0.2103, Val_Acc: 0.7821\n",
      "🔥 New best model with val_accuracy: 0.7821 🔥\n",
      "Checkpoint saved at epoch 20\n",
      "Updated Learning Rate: 0.000066\n"
     ]
    }
   ],
   "source": [
    "from torch.optim.lr_scheduler import StepLR\n",
    "\n",
    "# 학습 실행\n",
    "num_epochs = 20\n",
    "device = torch.device('cuda' if torch.cuda.is_available() else 'cpu')\n",
    "\n",
    "# 모델, 옵티마이저 설정\n",
    "model = ViTForCWTMultiLabel(num_classes=len(label_to_multihot[0]))\n",
    "model = model.to(device)\n",
    "optimizer = optim.Adam(model.parameters(), lr=0.0001)\n",
    "\n",
    "# 학습률 스케줄러 추가\n",
    "scheduler = StepLR(optimizer, step_size=5, gamma=0.9)\n",
    "\n",
    "filename = \"checkpoint_0424_ViT/checkpoint.pth\"\n",
    "\n",
    "# 학습 및 평가 시작\n",
    "trained_model, history = train_and_evaluate(model, train_loader, test_loader, optimizer, num_epochs, device, scheduler, filename)"
   ]
  },
  {
   "cell_type": "markdown",
   "id": "ea231811-4070-45a3-aaf5-6c7d5a9cd3c9",
   "metadata": {},
   "source": [
    "# result - best val_accuracy: 0.7232"
   ]
  },
  {
   "cell_type": "code",
   "execution_count": 22,
   "id": "12b218d7-bf4d-49ad-b45b-16ff43fa0364",
   "metadata": {
    "scrolled": true
   },
   "outputs": [
    {
     "data": {
      "image/png": "[encoded data removed]",
      "text/plain": [
       "<Figure size 1200x500 with 2 Axes>"
      ]
     },
     "metadata": {},
     "output_type": "display_data"
    }
   ],
   "source": [
    "plot_history(history)"
   ]
  }
 ],
 "metadata": {
  "kernelspec": {
   "display_name": "Python 3 (ipykernel)",
   "language": "python",
   "name": "python3"
  },
  "language_info": {
   "codemirror_mode": {
    "name": "ipython",
    "version": 3
   },
   "file_extension": ".py",
   "mimetype": "text/x-python",
   "name": "python",
   "nbconvert_exporter": "python",
   "pygments_lexer": "ipython3",
   "version": "3.11.11"
  }
 },
 "nbformat": 4,
 "nbformat_minor": 5
}
