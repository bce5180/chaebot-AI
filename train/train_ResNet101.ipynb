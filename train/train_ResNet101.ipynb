{
 "cells": [
  {
   "cell_type": "markdown",
   "id": "2de9ac59-729f-4d28-afd6-ccbd2869593b",
   "metadata": {},
   "source": [
    "# Data preprocessing"
   ]
  },
  {
   "cell_type": "code",
   "execution_count": 2,
   "id": "0aa98e6c-4edc-4c05-a553-a0c5c19e17be",
   "metadata": {
    "scrolled": true
   },
   "outputs": [
    {
     "name": "stdout",
     "output_type": "stream",
     "text": [
      "Defaulting to user installation because normal site-packages is not writeable\n",
      "Requirement already satisfied: pywavelets in /home/jangmin-oh/.local/lib/python3.11/site-packages (1.8.0)\n",
      "Requirement already satisfied: numpy<3,>=1.23 in /opt/conda/lib/python3.11/site-packages (from pywavelets) (1.26.4)\n"
     ]
    }
   ],
   "source": [
    "!pip install pywavelets"
   ]
  },
  {
   "cell_type": "code",
   "execution_count": 4,
   "id": "ac7ee4df-4300-4784-9dcc-1a9ded08ee76",
   "metadata": {
    "scrolled": true
   },
   "outputs": [
    {
     "name": "stderr",
     "output_type": "stream",
     "text": [
      "2025-03-23 11:44:26.721134: I tensorflow/core/util/port.cc:153] oneDNN custom operations are on. You may see slightly different numerical results due to floating-point round-off errors from different computation orders. To turn them off, set the environment variable `TF_ENABLE_ONEDNN_OPTS=0`.\n",
      "2025-03-23 11:44:26.883208: E external/local_xla/xla/stream_executor/cuda/cuda_fft.cc:477] Unable to register cuFFT factory: Attempting to register factory for plugin cuFFT when one has already been registered\n",
      "WARNING: All log messages before absl::InitializeLog() is called are written to STDERR\n",
      "E0000 00:00:1742730266.959317  350322 cuda_dnn.cc:8310] Unable to register cuDNN factory: Attempting to register factory for plugin cuDNN when one has already been registered\n",
      "E0000 00:00:1742730266.979471  350322 cuda_blas.cc:1418] Unable to register cuBLAS factory: Attempting to register factory for plugin cuBLAS when one has already been registered\n",
      "2025-03-23 11:44:27.139664: I tensorflow/core/platform/cpu_feature_guard.cc:210] This TensorFlow binary is optimized to use available CPU instructions in performance-critical operations.\n",
      "To enable the following instructions: AVX2 AVX512F AVX512_VNNI FMA, in other operations, rebuild TensorFlow with the appropriate compiler flags.\n"
     ]
    }
   ],
   "source": [
    "import os\n",
    "import numpy as np\n",
    "import librosa\n",
    "import tensorflow as tf\n",
    "from tensorflow.keras.models import Sequential\n",
    "from tensorflow.keras.layers import Dense, Flatten\n",
    "from tensorflow.keras.applications import EfficientNetB3\n",
    "from sklearn.model_selection import train_test_split\n",
    "from sklearn.preprocessing import LabelEncoder\n",
    "import pywt\n",
    "import torch"
   ]
  },
  {
   "cell_type": "code",
   "execution_count": 5,
   "id": "95da3688-7680-49c5-be9c-2d907024121d",
   "metadata": {},
   "outputs": [],
   "source": [
    "def load_audio_files_cwt(directory, num_classes=6):\n",
    "    files = os.listdir(directory)\n",
    "    audios = []\n",
    "    labels = []\n",
    "\n",
    "    target_duration = 0.05  # 50ms\n",
    "    sr = 22050\n",
    "    target_freq_bins = 128\n",
    "    target_time_steps = 1024\n",
    "\n",
    "    for file in files:\n",
    "        if file.endswith('.wav'):\n",
    "            path = os.path.join(directory, file)\n",
    "\n",
    "            # 다중 라벨 처리: [0, 1, 0, 0, 0, 0] 형식으로 변환\n",
    "            label_index = int(file[:4])  # 예: 파일 이름의 앞 4자리\n",
    "\n",
    "            # 오디오 로드\n",
    "            audio, _ = librosa.load(path, sr=sr)\n",
    "\n",
    "            # 길이 맞추기 (50ms 고정)\n",
    "            target_length = int(target_duration * sr)\n",
    "            if len(audio) < target_length:\n",
    "                audio = np.pad(audio, (0, target_length - len(audio)), mode='constant')\n",
    "            else:\n",
    "                onset_frames = librosa.onset.onset_detect(y=audio, sr=sr, units=\"samples\")\n",
    "                onset_sample = onset_frames[0] if len(onset_frames) > 0 else 0\n",
    "                end_sample = onset_sample + target_length\n",
    "                audio = audio[onset_sample:end_sample]\n",
    "                if len(audio) < target_length:\n",
    "                    audio = np.pad(audio, (0, target_length - len(audio)), mode='constant')\n",
    "\n",
    "            # Hamming 윈도우 적용\n",
    "            audio *= np.hamming(len(audio))\n",
    "\n",
    "            # CWT 변환 (1, freq_bins, time_steps)\n",
    "            scales = np.arange(1, target_freq_bins + 1)\n",
    "            cwt_matrix, _ = pywt.cwt(audio, scales, 'morl')\n",
    "            cwt_magnitude = np.abs(cwt_matrix)  # (128, time)\n",
    "\n",
    "            # 시간 축 조정 (pad or crop to 1024)\n",
    "            time_len = cwt_magnitude.shape[1]\n",
    "            if time_len < target_time_steps:\n",
    "                pad_width = target_time_steps - time_len\n",
    "                cwt_magnitude = np.pad(cwt_magnitude, ((0, 0), (0, pad_width)), mode='constant')\n",
    "            else:\n",
    "                cwt_magnitude = cwt_magnitude[:, :target_time_steps]\n",
    "\n",
    "            # (1, 128, 1024)로 reshape\n",
    "            cwt_tensor = torch.tensor(cwt_magnitude).unsqueeze(0).float()\n",
    "            audios.append(cwt_tensor.numpy())\n",
    "            labels.append(label_index)\n",
    "\n",
    "    return audios, labels"
   ]
  },
  {
   "cell_type": "code",
   "execution_count": 6,
   "id": "365eeb67-b2db-49f7-a942-98fb6cf5e3f7",
   "metadata": {
    "scrolled": true
   },
   "outputs": [
    {
     "name": "stderr",
     "output_type": "stream",
     "text": [
      "/opt/conda/lib/python3.11/site-packages/librosa/core/spectrum.py:266: UserWarning: n_fft=2048 is too large for input signal of length=1103\n",
      "  warnings.warn(\n"
     ]
    }
   ],
   "source": [
    "# 폴더 \"A\"와 \"B\"에서 오디오 로드\n",
    "audios, labels = load_audio_files_cwt('sliced')"
   ]
  },
  {
   "cell_type": "code",
   "execution_count": 7,
   "id": "2efcfe03-a261-4df5-8dcc-f40cb371e0ff",
   "metadata": {},
   "outputs": [
    {
     "data": {
      "text/plain": [
       "(1, 127, 1102)"
      ]
     },
     "execution_count": 7,
     "metadata": {},
     "output_type": "execute_result"
    }
   ],
   "source": [
    "audios[0].shape # (1, 127, 5512)"
   ]
  },
  {
   "cell_type": "code",
   "execution_count": 8,
   "id": "919f37ad-d75b-4186-ba05-75479101821a",
   "metadata": {
    "scrolled": true
   },
   "outputs": [
    {
     "data": {
      "text/plain": [
       "38572"
      ]
     },
     "execution_count": 8,
     "metadata": {},
     "output_type": "execute_result"
    }
   ],
   "source": [
    "len(audios)"
   ]
  },
  {
   "cell_type": "code",
   "execution_count": 9,
   "id": "0324592f-c10e-4589-8642-cd1e37122b06",
   "metadata": {
    "scrolled": true
   },
   "outputs": [],
   "source": [
    "import numpy as np\n",
    "\n",
    "# 라벨과 원-핫 인코딩 벡터 매핑 딕셔너리\n",
    "label_to_multihot = {\n",
    "    0: [0,0,0,0,0,0],\n",
    "    1: [1,0,0,0,0,0],\n",
    "    2: [0,1,0,0,0,0],\n",
    "    6: [0,0,0,1,0,0],\n",
    "    8: [0,0,0,0,1,0],\n",
    "    11: [0,0,0,0,0,1],\n",
    "    12: [0,0,1,0,0,0],\n",
    "    106: [1,0,0,1,0,0],\n",
    "    108: [1,0,0,0,1,0],\n",
    "    111: [1,0,0,0,0,1],\n",
    "    206: [0,1,0,1,0,0],\n",
    "    208: [0,1,0,0,1,0],\n",
    "    211: [0,1,0,0,0,1],\n",
    "    608: [0,0,0,1,1,0],\n",
    "    611: [0,0,0,1,0,1],\n",
    "    612: [0,0,1,1,0,0],\n",
    "    811: [0,0,0,0,1,1],\n",
    "    812: [0,0,1,0,1,0],\n",
    "    1112: [0,0,1,0,0,1],\n",
    "}\n",
    "\n",
    "# 원-핫 인코딩 변환 함수\n",
    "def convert_to_multihot(labels, label_to_onehot):\n",
    "    multihot_encoded = np.array([label_to_multihot[label] for label in labels])\n",
    "    return multihot_encoded\n",
    "\n",
    "# 라벨 변환\n",
    "labels_multihot = convert_to_multihot(labels, label_to_multihot)\n",
    "# labels_multihot_test = convert_to_multihot(labels_test, label_to_multihot)"
   ]
  },
  {
   "cell_type": "code",
   "execution_count": 10,
   "id": "17319f08-c4d2-45aa-aa67-40fd33a50b81",
   "metadata": {
    "scrolled": true
   },
   "outputs": [
    {
     "data": {
      "text/plain": [
       "array([[1, 0, 0, 1, 0, 0],\n",
       "       [1, 0, 0, 0, 0, 1],\n",
       "       [0, 0, 1, 1, 0, 0],\n",
       "       ...,\n",
       "       [0, 1, 0, 0, 0, 1],\n",
       "       [0, 0, 0, 0, 0, 1],\n",
       "       [1, 0, 0, 0, 0, 0]])"
      ]
     },
     "execution_count": 10,
     "metadata": {},
     "output_type": "execute_result"
    }
   ],
   "source": [
    "labels_multihot"
   ]
  },
  {
   "cell_type": "code",
   "execution_count": 11,
   "id": "ce30e59d-af56-4779-885b-66b287dfdfb4",
   "metadata": {
    "scrolled": true
   },
   "outputs": [
    {
     "name": "stdout",
     "output_type": "stream",
     "text": [
      "Label: [1, 0, 0, 1, 0, 0], Train: 1950, Test: 50\n",
      "Label: [1, 0, 0, 0, 0, 1], Train: 1950, Test: 50\n",
      "Label: [0, 0, 1, 1, 0, 0], Train: 1950, Test: 50\n",
      "Label: [0, 0, 0, 1, 1, 0], Train: 1950, Test: 50\n",
      "Label: [0, 0, 1, 0, 0, 0], Train: 2287, Test: 50\n",
      "Label: [1, 0, 0, 0, 0, 0], Train: 1950, Test: 50\n",
      "Label: [0, 1, 0, 1, 0, 0], Train: 1950, Test: 50\n",
      "Label: [0, 1, 0, 0, 0, 0], Train: 1950, Test: 50\n",
      "Label: [0, 1, 0, 0, 1, 0], Train: 1950, Test: 50\n",
      "Label: [0, 0, 0, 0, 0, 1], Train: 1950, Test: 50\n",
      "Label: [0, 0, 0, 0, 0, 0], Train: 1950, Test: 50\n",
      "Label: [0, 0, 0, 0, 1, 1], Train: 1950, Test: 50\n",
      "Label: [1, 0, 0, 0, 1, 0], Train: 1950, Test: 50\n",
      "Label: [0, 0, 1, 0, 1, 0], Train: 1950, Test: 50\n",
      "Label: [0, 0, 1, 0, 0, 1], Train: 1950, Test: 50\n",
      "Label: [0, 0, 0, 1, 0, 0], Train: 1950, Test: 50\n",
      "Label: [0, 0, 0, 1, 0, 1], Train: 1950, Test: 50\n",
      "Label: [0, 1, 0, 0, 0, 1], Train: 1950, Test: 50\n",
      "Label: [0, 0, 0, 0, 1, 0], Train: 2185, Test: 50\n"
     ]
    }
   ],
   "source": [
    "import numpy as np\n",
    "from collections import defaultdict\n",
    "\n",
    "# 다중 라벨 데이터를 균형 있게 샘플링하는 함수\n",
    "def balanced_sampling(X, y, sample_size=50, random_state=42):\n",
    "    np.random.seed(random_state)\n",
    "    \n",
    "    # 라벨을 문자열로 변환하여 그룹화 (mutable 자료형인 리스트는 직접 비교 불가하기 때문)\n",
    "    label_dict = defaultdict(list)\n",
    "    \n",
    "    for idx, label in enumerate(y):\n",
    "        label_str = str(label.tolist())  # 리스트를 문자열로 변환하여 key로 사용\n",
    "        label_dict[label_str].append(idx)\n",
    "    \n",
    "    train_indices = []\n",
    "    test_indices = []\n",
    "    \n",
    "    for label_str, indices in label_dict.items():\n",
    "        np.random.shuffle(indices)  # 랜덤하게 섞기\n",
    "        \n",
    "        test_sample = indices[:50]  # 테스트 세트: 50개 고정\n",
    "        train_sample = indices[50:]  # 나머지는 훈련 세트\n",
    "        \n",
    "        test_indices.extend(test_sample)\n",
    "        train_indices.extend(train_sample)\n",
    "        \n",
    "        print(f\"Label: {label_str}, Train: {len(train_sample)}, Test: {len(test_sample)}\")\n",
    "    \n",
    "    # 최종 선택된 데이터 추출\n",
    "    X_train, X_test = X[train_indices], X[test_indices]\n",
    "    y_train, y_test = y[train_indices], y[test_indices]\n",
    "    \n",
    "    return X_train, X_test, y_train, y_test\n",
    "\n",
    "X = np.array(audios)  # 리스트 -> NumPy 배열 변환\n",
    "y = np.array(labels_multihot)  # 리스트 -> NumPy 배열 변환\n",
    "\n",
    "# 데이터셋 분할 실행\n",
    "X_train, X_test, y_train, y_test = balanced_sampling(X, y)"
   ]
  },
  {
   "cell_type": "markdown",
   "id": "c740a6ee-5a2b-4c2b-b3d4-c8fbb5aadb5e",
   "metadata": {},
   "source": [
    "# training"
   ]
  },
  {
   "cell_type": "code",
   "execution_count": 12,
   "id": "200e4165-c27b-41ed-8929-6d623308ce81",
   "metadata": {},
   "outputs": [
    {
     "name": "stdout",
     "output_type": "stream",
     "text": [
      "cuda\n"
     ]
    }
   ],
   "source": [
    "import torch\n",
    "import torch.nn as nn\n",
    "import torch.optim as optim\n",
    "from torch.utils.data import Dataset, DataLoader\n",
    "import torch.nn.functional as F\n",
    "import torchvision.transforms as transforms\n",
    "from tqdm import tqdm\n",
    "import copy"
   ]
  },
  {
   "cell_type": "code",
   "execution_count": 13,
   "id": "6746d4a0-b32f-4b57-b251-a5be0d391a5b",
   "metadata": {},
   "outputs": [],
   "source": [
    "import torch\n",
    "import torch.nn as nn\n",
    "import torchvision.models as models\n",
    "\n",
    "class ResNet101Classifier(nn.Module):\n",
    "    def __init__(self, num_classes):\n",
    "        super(ResNet101Classifier, self).__init__()\n",
    "\n",
    "        # Pretrained ResNet101 모델 불러오기\n",
    "        self.backbone = models.resnet101(pretrained=True)\n",
    "\n",
    "        # 입력 채널이 1이면 첫 conv layer 수정\n",
    "        self.backbone.conv1 = nn.Conv2d(\n",
    "            1, 64, kernel_size=7, stride=2, padding=3, bias=False\n",
    "        )\n",
    "\n",
    "        # 마지막 fc layer 교체\n",
    "        self.backbone.fc = nn.Linear(self.backbone.fc.in_features, num_classes)\n",
    "\n",
    "    def forward(self, x):\n",
    "        return self.backbone(x)"
   ]
  },
  {
   "cell_type": "code",
   "execution_count": 14,
   "id": "70e74eb1-dcba-4afb-a4dd-735f3cbf0d3e",
   "metadata": {
    "scrolled": true
   },
   "outputs": [
    {
     "data": {
      "text/plain": [
       "torch.Size([1, 127, 1102])"
      ]
     },
     "execution_count": 14,
     "metadata": {},
     "output_type": "execute_result"
    }
   ],
   "source": [
    "import torch\n",
    "from torch.utils.data import Dataset\n",
    "import numpy as np\n",
    "\n",
    "# 커스텀 데이터셋 클래스 정의\n",
    "class AudioDataset(Dataset):\n",
    "    def __init__(self, audios, labels, max_time_dim=None, transform=None):\n",
    "        self.audios = audios\n",
    "        self.labels = labels\n",
    "        self.max_time_dim = max_time_dim or max([audio.shape[-1] for audio in audios])  # 최대 시간 축 크기 찾기\n",
    "        self.transform = transform\n",
    "\n",
    "    def __len__(self):\n",
    "        return len(self.audios)\n",
    "\n",
    "    def __getitem__(self, idx):\n",
    "        sample = self.audios[idx]  # NumPy 배열로 된 오디오 데이터를 로드\n",
    "        label = self.labels[idx]\n",
    "\n",
    "        # NumPy 배열을 텐서로 변환\n",
    "        sample = torch.tensor(sample).float()  # [1, 1026, N] 형식\n",
    "\n",
    "        # 시간 축을 기준으로 패딩 적용하여 최대 시간 길이에 맞춤\n",
    "        time_padding = self.max_time_dim - sample.shape[-1]\n",
    "        if time_padding > 0:\n",
    "            sample = torch.nn.functional.pad(sample, (0, time_padding), mode='constant', value=0)\n",
    "\n",
    "        if self.transform:\n",
    "            sample = self.transform(sample)\n",
    "\n",
    "        return sample, label\n",
    "\n",
    "# 데이터 증강 및 전처리 변환 설정 (이미 텐서로 변환되었으므로 ToTensor()는 불필요)\n",
    "train_transform = None\n",
    "test_transform = None\n",
    "\n",
    "# PyTorch Dataset 생성\n",
    "train_dataset = AudioDataset(X_train, y_train, transform=train_transform)\n",
    "test_dataset = AudioDataset(X_test, y_test, transform=test_transform)\n",
    "\n",
    "# DataLoader 설정\n",
    "train_loader = DataLoader(train_dataset, batch_size=16, shuffle=True)\n",
    "test_loader = DataLoader(test_dataset, batch_size=16, shuffle=False)\n",
    "\n",
    "sample, label = train_dataset[0]\n",
    "sample_size = sample.size()\n",
    "\n",
    "sample_size"
   ]
  },
  {
   "cell_type": "code",
   "execution_count": 15,
   "id": "30c2c36e-3c8c-4714-a3e8-7d0acf22a832",
   "metadata": {},
   "outputs": [],
   "source": [
    "import torch\n",
    "import torch.optim as optim\n",
    "from torch.utils.data import DataLoader\n",
    "from tqdm import tqdm\n",
    "import copy\n",
    "import os\n",
    "import matplotlib.pyplot as plt\n",
    "\n",
    "# 모델, 옵티마이저, 학습 기록 저장 함수\n",
    "def save_checkpoint(epoch, model, optimizer, history, best_val_accuracy, filename=\"checkpoint.pth\"):\n",
    "    checkpoint = {\n",
    "        'epoch': epoch,\n",
    "        'model_state_dict': model.state_dict(),\n",
    "        'optimizer_state_dict': optimizer.state_dict(),\n",
    "        'history': history,\n",
    "        'best_val_accuracy': best_val_accuracy\n",
    "    }\n",
    "    torch.save(checkpoint, filename)\n",
    "    print(f\"Checkpoint saved at epoch {epoch+1}\")\n",
    "\n",
    "# 저장된 체크포인트 불러오기\n",
    "def load_checkpoint(filename, model, optimizer):\n",
    "    if os.path.isfile(filename):\n",
    "        checkpoint = torch.load(filename)\n",
    "        model.load_state_dict(checkpoint['model_state_dict'])\n",
    "        optimizer.load_state_dict(checkpoint['optimizer_state_dict'])\n",
    "        epoch = checkpoint['epoch']\n",
    "        history = checkpoint['history']\n",
    "        best_val_accuracy = checkpoint['best_val_accuracy']\n",
    "        print(f\"Checkpoint loaded from epoch {epoch+1}\")\n",
    "        return epoch, history, best_val_accuracy\n",
    "    else:\n",
    "        print(\"No checkpoint found.\")\n",
    "        return 0, {'train_loss': [], 'train_acc': [], 'val_loss': [], 'val_acc': []}, 0.0\n",
    "\n",
    "# 학습 기록 그래프 출력 함수\n",
    "def plot_history(history):\n",
    "    epochs = range(1, len(history['train_loss']) + 1)\n",
    "    \n",
    "    plt.figure(figsize=(12, 5))\n",
    "\n",
    "    # Loss Plot\n",
    "    plt.subplot(1, 2, 1)\n",
    "    plt.plot(epochs, history['train_loss'], label='Train Loss')\n",
    "    plt.plot(epochs, history['val_loss'], label='Validation Loss')\n",
    "    plt.xlabel('Epochs')\n",
    "    plt.ylabel('Loss')\n",
    "    plt.title('Loss History')\n",
    "    plt.legend()\n",
    "\n",
    "    # Accuracy Plot\n",
    "    plt.subplot(1, 2, 2)\n",
    "    plt.plot(epochs, history['train_acc'], label='Train Accuracy')\n",
    "    plt.plot(epochs, history['val_acc'], label='Validation Accuracy')\n",
    "    plt.xlabel('Epochs')\n",
    "    plt.ylabel('Accuracy')\n",
    "    plt.title('Accuracy History')\n",
    "    plt.legend()\n",
    "\n",
    "    plt.tight_layout()\n",
    "    plt.show()"
   ]
  },
  {
   "cell_type": "code",
   "execution_count": 16,
   "id": "a128cce6-c0b1-406b-94e2-0e4e2fd1e818",
   "metadata": {},
   "outputs": [],
   "source": [
    "def evaluate(model, loader, classification_criterion):\n",
    "    model.eval()\n",
    "    running_loss = 0.0\n",
    "    correct_per_sample = 0  \n",
    "    total_samples = 0\n",
    "\n",
    "    with torch.no_grad():\n",
    "        for inputs, labels in loader:\n",
    "            inputs = inputs.to(device)\n",
    "            labels = labels.to(device).float()\n",
    "\n",
    "            class_output_logits = model(inputs)\n",
    "            classification_loss = classification_criterion(class_output_logits, labels)\n",
    "            running_loss += classification_loss.item()\n",
    "\n",
    "            # Sigmoid 적용 후 이진화\n",
    "            class_output = torch.sigmoid(class_output_logits)\n",
    "            preds = (class_output > 0.5).int()\n",
    "\n",
    "            # 샘플 단위 정확도\n",
    "            correct_per_sample += (preds == labels).all(dim=1).sum().item()\n",
    "            total_samples += labels.shape[0]  \n",
    "\n",
    "    accuracy = correct_per_sample / total_samples\n",
    "    return running_loss / len(loader), accuracy"
   ]
  },
  {
   "cell_type": "code",
   "execution_count": 17,
   "id": "6b1593f7-1d28-463b-afe6-f540daf1b472",
   "metadata": {},
   "outputs": [],
   "source": [
    "def train_and_evaluate(model, train_loader, test_loader, optimizer, num_epochs, device, scheduler, checkpoint_file='checkpoint.pth'):\n",
    "    start_epoch, history, best_val_accuracy = load_checkpoint(checkpoint_file, model, optimizer)\n",
    "    best_model_wts = copy.deepcopy(model.state_dict())\n",
    "\n",
    "    classification_criterion = nn.BCEWithLogitsLoss()\n",
    "\n",
    "    for epoch in range(start_epoch, num_epochs):\n",
    "        model.train()\n",
    "        running_loss = 0.0\n",
    "        correct = 0\n",
    "        total = 0\n",
    "\n",
    "        print(f\"Epoch [{epoch+1}/{num_epochs}] training...\")\n",
    "\n",
    "        for inputs, labels in tqdm(train_loader, desc=\"Training\", leave=False):\n",
    "            inputs = inputs.to(device)\n",
    "            labels = labels.to(device).float()\n",
    "\n",
    "            optimizer.zero_grad()\n",
    "            class_output_logits = model(inputs)\n",
    "            classification_loss = classification_criterion(class_output_logits, labels)\n",
    "\n",
    "            loss = classification_loss\n",
    "            loss.backward()\n",
    "            optimizer.step()\n",
    "\n",
    "            running_loss += loss.item()\n",
    "\n",
    "            predicted = (torch.sigmoid(class_output_logits) > 0.5).int()\n",
    "            correct += (predicted == labels).all(dim=1).sum().item()\n",
    "            total += labels.shape[0]\n",
    "\n",
    "        train_loss = running_loss / len(train_loader)\n",
    "        train_accuracy = correct / total\n",
    "\n",
    "        print(\"Evaluating on validation set...\")\n",
    "        val_loss, val_accuracy = evaluate(model, test_loader, classification_criterion)\n",
    "\n",
    "        print(f\"Epoch [{epoch+1}/{num_epochs}], \"\n",
    "              f\"Loss: {train_loss:.4f}, Acc: {train_accuracy:.4f}, \"\n",
    "              f\"Val_Loss: {val_loss:.4f}, Val_Acc: {val_accuracy:.4f}\")\n",
    "\n",
    "        history['train_loss'].append(train_loss)\n",
    "        history['train_acc'].append(train_accuracy)\n",
    "        history['val_loss'].append(val_loss)\n",
    "        history['val_acc'].append(val_accuracy)\n",
    "\n",
    "        if val_accuracy > best_val_accuracy:\n",
    "            best_val_accuracy = val_accuracy\n",
    "            best_model_wts = copy.deepcopy(model.state_dict())\n",
    "            print(f\"🔥 New best model with val_accuracy: {val_accuracy:.4f} 🔥\")\n",
    "\n",
    "        save_checkpoint(epoch, model, optimizer, history, best_val_accuracy, checkpoint_file)\n",
    "\n",
    "        # best 모델 저장\n",
    "        model.load_state_dict(best_model_wts)\n",
    "        torch.save(model.state_dict(), 'best_model.pth')\n",
    "\n",
    "        scheduler.step()\n",
    "        print(f\"Updated Learning Rate: {scheduler.get_last_lr()[0]:.6f}\")\n",
    "\n",
    "    return model, history"
   ]
  },
  {
   "cell_type": "code",
   "execution_count": 19,
   "id": "4ad2fcdf-9a9a-4fb5-becb-4953af86a271",
   "metadata": {
    "scrolled": true
   },
   "outputs": [
    {
     "name": "stderr",
     "output_type": "stream",
     "text": [
      "/opt/conda/lib/python3.11/site-packages/torchvision/models/_utils.py:208: UserWarning: The parameter 'pretrained' is deprecated since 0.13 and may be removed in the future, please use 'weights' instead.\n",
      "  warnings.warn(\n",
      "/opt/conda/lib/python3.11/site-packages/torchvision/models/_utils.py:223: UserWarning: Arguments other than a weight enum or `None` for 'weights' are deprecated since 0.13 and may be removed in the future. The current behavior is equivalent to passing `weights=ResNet101_Weights.IMAGENET1K_V1`. You can also use `weights=ResNet101_Weights.DEFAULT` to get the most up-to-date weights.\n",
      "  warnings.warn(msg)\n"
     ]
    },
    {
     "name": "stdout",
     "output_type": "stream",
     "text": [
      "No checkpoint found.\n",
      "Epoch [1/20] training...\n"
     ]
    },
    {
     "name": "stderr",
     "output_type": "stream",
     "text": [
      "                                                                                                                  \r"
     ]
    },
    {
     "name": "stdout",
     "output_type": "stream",
     "text": [
      "Evaluating on validation set...\n",
      "Epoch [1/20], Loss: 0.2925, Acc: 0.4734, Val_Loss: 0.2270, Val_Acc: 0.5989\n",
      "🔥 New best model with val_accuracy: 0.5989 🔥\n",
      "Checkpoint saved at epoch 1\n",
      "Updated Learning Rate: 0.000100\n",
      "Epoch [2/20] training...\n"
     ]
    },
    {
     "name": "stderr",
     "output_type": "stream",
     "text": [
      "                                                                                                                  \r"
     ]
    },
    {
     "name": "stdout",
     "output_type": "stream",
     "text": [
      "Evaluating on validation set...\n",
      "Epoch [2/20], Loss: 0.2274, Acc: 0.5930, Val_Loss: 0.2193, Val_Acc: 0.6000\n",
      "🔥 New best model with val_accuracy: 0.6000 🔥\n",
      "Checkpoint saved at epoch 2\n",
      "Updated Learning Rate: 0.000100\n",
      "Epoch [3/20] training...\n"
     ]
    },
    {
     "name": "stderr",
     "output_type": "stream",
     "text": [
      "                                                                                                                  \r"
     ]
    },
    {
     "name": "stdout",
     "output_type": "stream",
     "text": [
      "Evaluating on validation set...\n",
      "Epoch [3/20], Loss: 0.1925, Acc: 0.6534, Val_Loss: 0.1793, Val_Acc: 0.6684\n",
      "🔥 New best model with val_accuracy: 0.6684 🔥\n",
      "Checkpoint saved at epoch 3\n",
      "Updated Learning Rate: 0.000100\n",
      "Epoch [4/20] training...\n"
     ]
    },
    {
     "name": "stderr",
     "output_type": "stream",
     "text": [
      "                                                                                                                  \r"
     ]
    },
    {
     "name": "stdout",
     "output_type": "stream",
     "text": [
      "Evaluating on validation set...\n",
      "Epoch [4/20], Loss: 0.1651, Acc: 0.7035, Val_Loss: 0.1692, Val_Acc: 0.6989\n",
      "🔥 New best model with val_accuracy: 0.6989 🔥\n",
      "Checkpoint saved at epoch 4\n",
      "Updated Learning Rate: 0.000100\n",
      "Epoch [5/20] training...\n"
     ]
    },
    {
     "name": "stderr",
     "output_type": "stream",
     "text": [
      "                                                                                                                  \r"
     ]
    },
    {
     "name": "stdout",
     "output_type": "stream",
     "text": [
      "Evaluating on validation set...\n",
      "Epoch [5/20], Loss: 0.1385, Acc: 0.7521, Val_Loss: 0.1748, Val_Acc: 0.6937\n",
      "Checkpoint saved at epoch 5\n",
      "Updated Learning Rate: 0.000090\n",
      "Epoch [6/20] training...\n"
     ]
    },
    {
     "name": "stderr",
     "output_type": "stream",
     "text": [
      "                                                                                                                  \r"
     ]
    },
    {
     "name": "stdout",
     "output_type": "stream",
     "text": [
      "Evaluating on validation set...\n",
      "Epoch [6/20], Loss: 0.1308, Acc: 0.7657, Val_Loss: 0.1726, Val_Acc: 0.7000\n",
      "🔥 New best model with val_accuracy: 0.7000 🔥\n",
      "Checkpoint saved at epoch 6\n",
      "Updated Learning Rate: 0.000090\n",
      "Epoch [7/20] training...\n"
     ]
    },
    {
     "name": "stderr",
     "output_type": "stream",
     "text": [
      "                                                                                                                  \r"
     ]
    },
    {
     "name": "stdout",
     "output_type": "stream",
     "text": [
      "Evaluating on validation set...\n",
      "Epoch [7/20], Loss: 0.1038, Acc: 0.8106, Val_Loss: 0.1663, Val_Acc: 0.7295\n",
      "🔥 New best model with val_accuracy: 0.7295 🔥\n",
      "Checkpoint saved at epoch 7\n",
      "Updated Learning Rate: 0.000090\n",
      "Epoch [8/20] training...\n"
     ]
    },
    {
     "name": "stderr",
     "output_type": "stream",
     "text": [
      "                                                                                                                  \r"
     ]
    },
    {
     "name": "stdout",
     "output_type": "stream",
     "text": [
      "Evaluating on validation set...\n",
      "Epoch [8/20], Loss: 0.0783, Acc: 0.8585, Val_Loss: 0.1845, Val_Acc: 0.7305\n",
      "🔥 New best model with val_accuracy: 0.7305 🔥\n",
      "Checkpoint saved at epoch 8\n",
      "Updated Learning Rate: 0.000090\n",
      "Epoch [9/20] training...\n"
     ]
    },
    {
     "name": "stderr",
     "output_type": "stream",
     "text": [
      "                                                                                                                  \r"
     ]
    },
    {
     "name": "stdout",
     "output_type": "stream",
     "text": [
      "Evaluating on validation set...\n",
      "Epoch [9/20], Loss: 0.0603, Acc: 0.8919, Val_Loss: 0.1793, Val_Acc: 0.7568\n",
      "🔥 New best model with val_accuracy: 0.7568 🔥\n",
      "Checkpoint saved at epoch 9\n",
      "Updated Learning Rate: 0.000090\n",
      "Epoch [10/20] training...\n"
     ]
    },
    {
     "name": "stderr",
     "output_type": "stream",
     "text": [
      "                                                                                                                  \r"
     ]
    },
    {
     "name": "stdout",
     "output_type": "stream",
     "text": [
      "Evaluating on validation set...\n",
      "Epoch [10/20], Loss: 0.0496, Acc: 0.9111, Val_Loss: 0.1883, Val_Acc: 0.7274\n",
      "Checkpoint saved at epoch 10\n",
      "Updated Learning Rate: 0.000081\n",
      "Epoch [11/20] training...\n"
     ]
    },
    {
     "name": "stderr",
     "output_type": "stream",
     "text": [
      "                                                                                                                  \r"
     ]
    },
    {
     "name": "stdout",
     "output_type": "stream",
     "text": [
      "Evaluating on validation set...\n",
      "Epoch [11/20], Loss: 0.0421, Acc: 0.9259, Val_Loss: 0.1995, Val_Acc: 0.7189\n",
      "Checkpoint saved at epoch 11\n",
      "Updated Learning Rate: 0.000081\n",
      "Epoch [12/20] training...\n"
     ]
    },
    {
     "name": "stderr",
     "output_type": "stream",
     "text": [
      "                                                                                                                  \r"
     ]
    },
    {
     "name": "stdout",
     "output_type": "stream",
     "text": [
      "Evaluating on validation set...\n",
      "Epoch [12/20], Loss: 0.0437, Acc: 0.9240, Val_Loss: 0.1978, Val_Acc: 0.7179\n",
      "Checkpoint saved at epoch 12\n",
      "Updated Learning Rate: 0.000081\n",
      "Epoch [13/20] training...\n"
     ]
    },
    {
     "name": "stderr",
     "output_type": "stream",
     "text": [
      "                                                                                                                  \r"
     ]
    },
    {
     "name": "stdout",
     "output_type": "stream",
     "text": [
      "Evaluating on validation set...\n",
      "Epoch [13/20], Loss: 0.0425, Acc: 0.9244, Val_Loss: 0.1885, Val_Acc: 0.7389\n",
      "Checkpoint saved at epoch 13\n",
      "Updated Learning Rate: 0.000081\n",
      "Epoch [14/20] training...\n"
     ]
    },
    {
     "name": "stderr",
     "output_type": "stream",
     "text": [
      "                                                                                                                  \r"
     ]
    },
    {
     "name": "stdout",
     "output_type": "stream",
     "text": [
      "Evaluating on validation set...\n",
      "Epoch [14/20], Loss: 0.0438, Acc: 0.9236, Val_Loss: 0.2018, Val_Acc: 0.7200\n",
      "Checkpoint saved at epoch 14\n",
      "Updated Learning Rate: 0.000081\n",
      "Epoch [15/20] training...\n"
     ]
    },
    {
     "name": "stderr",
     "output_type": "stream",
     "text": [
      "                                                                                                                  \r"
     ]
    },
    {
     "name": "stdout",
     "output_type": "stream",
     "text": [
      "Evaluating on validation set...\n",
      "Epoch [15/20], Loss: 0.0435, Acc: 0.9235, Val_Loss: 0.2030, Val_Acc: 0.7316\n",
      "Checkpoint saved at epoch 15\n",
      "Updated Learning Rate: 0.000073\n",
      "Epoch [16/20] training...\n"
     ]
    },
    {
     "name": "stderr",
     "output_type": "stream",
     "text": [
      "                                                                                                                  \r"
     ]
    },
    {
     "name": "stdout",
     "output_type": "stream",
     "text": [
      "Evaluating on validation set...\n",
      "Epoch [16/20], Loss: 0.0371, Acc: 0.9341, Val_Loss: 0.2112, Val_Acc: 0.7347\n",
      "Checkpoint saved at epoch 16\n",
      "Updated Learning Rate: 0.000073\n",
      "Epoch [17/20] training...\n"
     ]
    },
    {
     "name": "stderr",
     "output_type": "stream",
     "text": [
      "                                                                                                                  \r"
     ]
    },
    {
     "name": "stdout",
     "output_type": "stream",
     "text": [
      "Evaluating on validation set...\n",
      "Epoch [17/20], Loss: 0.0402, Acc: 0.9302, Val_Loss: 0.2023, Val_Acc: 0.7305\n",
      "Checkpoint saved at epoch 17\n",
      "Updated Learning Rate: 0.000073\n",
      "Epoch [18/20] training...\n"
     ]
    },
    {
     "name": "stderr",
     "output_type": "stream",
     "text": [
      "                                                                                                                  \r"
     ]
    },
    {
     "name": "stdout",
     "output_type": "stream",
     "text": [
      "Evaluating on validation set...\n",
      "Epoch [18/20], Loss: 0.0395, Acc: 0.9301, Val_Loss: 0.1826, Val_Acc: 0.7368\n",
      "Checkpoint saved at epoch 18\n",
      "Updated Learning Rate: 0.000073\n",
      "Epoch [19/20] training...\n"
     ]
    },
    {
     "name": "stderr",
     "output_type": "stream",
     "text": [
      "                                                                                                                  \r"
     ]
    },
    {
     "name": "stdout",
     "output_type": "stream",
     "text": [
      "Evaluating on validation set...\n",
      "Epoch [19/20], Loss: 0.0388, Acc: 0.9320, Val_Loss: 0.1933, Val_Acc: 0.7368\n",
      "Checkpoint saved at epoch 19\n",
      "Updated Learning Rate: 0.000073\n",
      "Epoch [20/20] training...\n"
     ]
    },
    {
     "name": "stderr",
     "output_type": "stream",
     "text": [
      "                                                                                                                  \r"
     ]
    },
    {
     "name": "stdout",
     "output_type": "stream",
     "text": [
      "Evaluating on validation set...\n",
      "Epoch [20/20], Loss: 0.0398, Acc: 0.9302, Val_Loss: 0.1992, Val_Acc: 0.7326\n",
      "Checkpoint saved at epoch 20\n",
      "Updated Learning Rate: 0.000066\n"
     ]
    }
   ],
   "source": [
    "from torch.optim.lr_scheduler import StepLR\n",
    "\n",
    "# 학습 실행\n",
    "num_epochs = 20\n",
    "device = torch.device('cuda' if torch.cuda.is_available() else 'cpu')\n",
    "\n",
    "# 모델, 옵티마이저 설정\n",
    "model = ResNet101Classifier(num_classes=len(label_to_multihot[0]))\n",
    "model = model.to(device)\n",
    "optimizer = optim.Adam(model.parameters(), lr=0.0001)\n",
    "\n",
    "# 학습률 스케줄러 추가\n",
    "scheduler = StepLR(optimizer, step_size=5, gamma=0.9)\n",
    "\n",
    "filename = \"checkpoint_0322_v3_resnet101/checkpoint.pth\"\n",
    "\n",
    "# 학습 및 평가 시작\n",
    "trained_model, history = train_and_evaluate(model, train_loader, test_loader, optimizer, num_epochs, device, scheduler, filename)"
   ]
  },
  {
   "cell_type": "code",
   "execution_count": 20,
   "id": "54d1b9d5-9794-432d-91ed-12ac9d3ef231",
   "metadata": {
    "scrolled": true
   },
   "outputs": [
    {
     "name": "stderr",
     "output_type": "stream",
     "text": [
      "/tmp/ipykernel_350322/1285455833.py:24: FutureWarning: You are using `torch.load` with `weights_only=False` (the current default value), which uses the default pickle module implicitly. It is possible to construct malicious pickle data which will execute arbitrary code during unpickling (See https://github.com/pytorch/pytorch/blob/main/SECURITY.md#untrusted-models for more details). In a future release, the default value for `weights_only` will be flipped to `True`. This limits the functions that could be executed during unpickling. Arbitrary objects will no longer be allowed to be loaded via this mode unless they are explicitly allowlisted by the user via `torch.serialization.add_safe_globals`. We recommend you start setting `weights_only=True` for any use case where you don't have full control of the loaded file. Please open an issue on GitHub for any issues related to this experimental feature.\n",
      "  checkpoint = torch.load(filename)\n"
     ]
    },
    {
     "name": "stdout",
     "output_type": "stream",
     "text": [
      "Checkpoint loaded from epoch 20\n",
      "Epoch [20/60] training...\n"
     ]
    },
    {
     "name": "stderr",
     "output_type": "stream",
     "text": [
      "                                                                                                                  \r"
     ]
    },
    {
     "name": "stdout",
     "output_type": "stream",
     "text": [
      "Evaluating on validation set...\n",
      "Epoch [20/60], Loss: 0.0306, Acc: 0.9467, Val_Loss: 0.1981, Val_Acc: 0.7442\n",
      "Checkpoint saved at epoch 20\n",
      "Updated Learning Rate: 0.000073\n",
      "Epoch [21/60] training...\n"
     ]
    },
    {
     "name": "stderr",
     "output_type": "stream",
     "text": [
      "                                                                                                                  \r"
     ]
    },
    {
     "name": "stdout",
     "output_type": "stream",
     "text": [
      "Evaluating on validation set...\n",
      "Epoch [21/60], Loss: 0.0307, Acc: 0.9471, Val_Loss: 0.2139, Val_Acc: 0.7358\n",
      "Checkpoint saved at epoch 21\n",
      "Updated Learning Rate: 0.000073\n",
      "Epoch [22/60] training...\n"
     ]
    },
    {
     "name": "stderr",
     "output_type": "stream",
     "text": [
      "                                                                                                                  \r"
     ]
    },
    {
     "name": "stdout",
     "output_type": "stream",
     "text": [
      "Evaluating on validation set...\n",
      "Epoch [22/60], Loss: 0.0311, Acc: 0.9458, Val_Loss: 0.2208, Val_Acc: 0.7316\n",
      "Checkpoint saved at epoch 22\n",
      "Updated Learning Rate: 0.000073\n",
      "Epoch [23/60] training...\n"
     ]
    },
    {
     "name": "stderr",
     "output_type": "stream",
     "text": [
      "                                                                                                                  \r"
     ]
    },
    {
     "name": "stdout",
     "output_type": "stream",
     "text": [
      "Evaluating on validation set...\n",
      "Epoch [23/60], Loss: 0.0306, Acc: 0.9472, Val_Loss: 0.2330, Val_Acc: 0.7221\n",
      "Checkpoint saved at epoch 23\n",
      "Updated Learning Rate: 0.000073\n",
      "Epoch [24/60] training...\n"
     ]
    },
    {
     "name": "stderr",
     "output_type": "stream",
     "text": [
      "                                                                                                                  \r"
     ]
    },
    {
     "name": "stdout",
     "output_type": "stream",
     "text": [
      "Evaluating on validation set...\n",
      "Epoch [24/60], Loss: 0.0308, Acc: 0.9462, Val_Loss: 0.2262, Val_Acc: 0.7084\n",
      "Checkpoint saved at epoch 24\n",
      "Updated Learning Rate: 0.000069\n",
      "Epoch [25/60] training...\n"
     ]
    },
    {
     "name": "stderr",
     "output_type": "stream",
     "text": [
      "                                                                                                                  \r"
     ]
    },
    {
     "name": "stdout",
     "output_type": "stream",
     "text": [
      "Evaluating on validation set...\n",
      "Epoch [25/60], Loss: 0.0295, Acc: 0.9490, Val_Loss: 0.2090, Val_Acc: 0.7484\n",
      "Checkpoint saved at epoch 25\n",
      "Updated Learning Rate: 0.000069\n",
      "Epoch [26/60] training...\n"
     ]
    },
    {
     "name": "stderr",
     "output_type": "stream",
     "text": [
      "                                                                                                                  \r"
     ]
    },
    {
     "name": "stdout",
     "output_type": "stream",
     "text": [
      "Evaluating on validation set...\n",
      "Epoch [26/60], Loss: 0.0296, Acc: 0.9491, Val_Loss: 0.2282, Val_Acc: 0.7411\n",
      "Checkpoint saved at epoch 26\n",
      "Updated Learning Rate: 0.000069\n",
      "Epoch [27/60] training...\n"
     ]
    },
    {
     "name": "stderr",
     "output_type": "stream",
     "text": [
      "                                                                                                                  \r"
     ]
    },
    {
     "name": "stdout",
     "output_type": "stream",
     "text": [
      "Evaluating on validation set...\n",
      "Epoch [27/60], Loss: 0.0298, Acc: 0.9491, Val_Loss: 0.2292, Val_Acc: 0.7347\n",
      "Checkpoint saved at epoch 27\n",
      "Updated Learning Rate: 0.000069\n",
      "Epoch [28/60] training...\n"
     ]
    },
    {
     "name": "stderr",
     "output_type": "stream",
     "text": [
      "                                                                                                                  \r"
     ]
    },
    {
     "name": "stdout",
     "output_type": "stream",
     "text": [
      "Evaluating on validation set...\n",
      "Epoch [28/60], Loss: 0.0304, Acc: 0.9485, Val_Loss: 0.1932, Val_Acc: 0.7421\n",
      "Checkpoint saved at epoch 28\n",
      "Updated Learning Rate: 0.000069\n",
      "Epoch [29/60] training...\n"
     ]
    },
    {
     "name": "stderr",
     "output_type": "stream",
     "text": [
      "                                                                                                                  \r"
     ]
    },
    {
     "name": "stdout",
     "output_type": "stream",
     "text": [
      "Evaluating on validation set...\n",
      "Epoch [29/60], Loss: 0.0290, Acc: 0.9507, Val_Loss: 0.2286, Val_Acc: 0.7389\n",
      "Checkpoint saved at epoch 29\n",
      "Updated Learning Rate: 0.000066\n",
      "Epoch [30/60] training...\n"
     ]
    },
    {
     "name": "stderr",
     "output_type": "stream",
     "text": [
      "                                                                                                                  \r"
     ]
    },
    {
     "name": "stdout",
     "output_type": "stream",
     "text": [
      "Evaluating on validation set...\n",
      "Epoch [30/60], Loss: 0.0283, Acc: 0.9512, Val_Loss: 0.1948, Val_Acc: 0.7537\n",
      "Checkpoint saved at epoch 30\n",
      "Updated Learning Rate: 0.000066\n",
      "Epoch [31/60] training...\n"
     ]
    },
    {
     "name": "stderr",
     "output_type": "stream",
     "text": [
      "                                                                                                                  \r"
     ]
    },
    {
     "name": "stdout",
     "output_type": "stream",
     "text": [
      "Evaluating on validation set...\n",
      "Epoch [31/60], Loss: 0.0275, Acc: 0.9534, Val_Loss: 0.2072, Val_Acc: 0.7421\n",
      "Checkpoint saved at epoch 31\n",
      "Updated Learning Rate: 0.000066\n",
      "Epoch [32/60] training...\n"
     ]
    },
    {
     "name": "stderr",
     "output_type": "stream",
     "text": [
      "                                                                                                                  \r"
     ]
    },
    {
     "name": "stdout",
     "output_type": "stream",
     "text": [
      "Evaluating on validation set...\n",
      "Epoch [32/60], Loss: 0.0283, Acc: 0.9514, Val_Loss: 0.2299, Val_Acc: 0.7432\n",
      "Checkpoint saved at epoch 32\n",
      "Updated Learning Rate: 0.000066\n",
      "Epoch [33/60] training...\n"
     ]
    },
    {
     "name": "stderr",
     "output_type": "stream",
     "text": [
      "                                                                                                                  \r"
     ]
    },
    {
     "name": "stdout",
     "output_type": "stream",
     "text": [
      "Evaluating on validation set...\n",
      "Epoch [33/60], Loss: 0.0286, Acc: 0.9521, Val_Loss: 0.2099, Val_Acc: 0.7411\n",
      "Checkpoint saved at epoch 33\n",
      "Updated Learning Rate: 0.000066\n",
      "Epoch [34/60] training...\n"
     ]
    },
    {
     "name": "stderr",
     "output_type": "stream",
     "text": [
      "                                                                                                                  \r"
     ]
    },
    {
     "name": "stdout",
     "output_type": "stream",
     "text": [
      "Evaluating on validation set...\n",
      "Epoch [34/60], Loss: 0.0280, Acc: 0.9531, Val_Loss: 0.2034, Val_Acc: 0.7463\n",
      "Checkpoint saved at epoch 34\n",
      "Updated Learning Rate: 0.000063\n",
      "Epoch [35/60] training...\n"
     ]
    },
    {
     "name": "stderr",
     "output_type": "stream",
     "text": [
      "                                                                                                                  \r"
     ]
    },
    {
     "name": "stdout",
     "output_type": "stream",
     "text": [
      "Evaluating on validation set...\n",
      "Epoch [35/60], Loss: 0.0267, Acc: 0.9551, Val_Loss: 0.2301, Val_Acc: 0.7358\n",
      "Checkpoint saved at epoch 35\n",
      "Updated Learning Rate: 0.000063\n",
      "Epoch [36/60] training...\n"
     ]
    },
    {
     "name": "stderr",
     "output_type": "stream",
     "text": [
      "                                                                                                                  \r"
     ]
    },
    {
     "name": "stdout",
     "output_type": "stream",
     "text": [
      "Evaluating on validation set...\n",
      "Epoch [36/60], Loss: 0.0268, Acc: 0.9549, Val_Loss: 0.2057, Val_Acc: 0.7495\n",
      "Checkpoint saved at epoch 36\n",
      "Updated Learning Rate: 0.000063\n",
      "Epoch [37/60] training...\n"
     ]
    },
    {
     "name": "stderr",
     "output_type": "stream",
     "text": [
      "                                                                                                                  \r"
     ]
    },
    {
     "name": "stdout",
     "output_type": "stream",
     "text": [
      "Evaluating on validation set...\n",
      "Epoch [37/60], Loss: 0.0276, Acc: 0.9534, Val_Loss: 0.2071, Val_Acc: 0.7295\n",
      "Checkpoint saved at epoch 37\n",
      "Updated Learning Rate: 0.000063\n",
      "Epoch [38/60] training...\n"
     ]
    },
    {
     "name": "stderr",
     "output_type": "stream",
     "text": [
      "                                                                                                                  \r"
     ]
    },
    {
     "name": "stdout",
     "output_type": "stream",
     "text": [
      "Evaluating on validation set...\n",
      "Epoch [38/60], Loss: 0.0263, Acc: 0.9555, Val_Loss: 0.1945, Val_Acc: 0.7337\n",
      "Checkpoint saved at epoch 38\n",
      "Updated Learning Rate: 0.000063\n",
      "Epoch [39/60] training...\n"
     ]
    },
    {
     "name": "stderr",
     "output_type": "stream",
     "text": [
      "                                                                                                                  \r"
     ]
    },
    {
     "name": "stdout",
     "output_type": "stream",
     "text": [
      "Evaluating on validation set...\n",
      "Epoch [39/60], Loss: 0.0271, Acc: 0.9538, Val_Loss: 0.2384, Val_Acc: 0.7263\n",
      "Checkpoint saved at epoch 39\n",
      "Updated Learning Rate: 0.000059\n",
      "Epoch [40/60] training...\n"
     ]
    },
    {
     "name": "stderr",
     "output_type": "stream",
     "text": [
      "                                                                                                                  \r"
     ]
    },
    {
     "name": "stdout",
     "output_type": "stream",
     "text": [
      "Evaluating on validation set...\n",
      "Epoch [40/60], Loss: 0.0249, Acc: 0.9577, Val_Loss: 0.2228, Val_Acc: 0.7442\n",
      "Checkpoint saved at epoch 40\n",
      "Updated Learning Rate: 0.000059\n",
      "Epoch [41/60] training...\n"
     ]
    },
    {
     "name": "stderr",
     "output_type": "stream",
     "text": [
      "                                                                                                                  \r"
     ]
    },
    {
     "name": "stdout",
     "output_type": "stream",
     "text": [
      "Evaluating on validation set...\n",
      "Epoch [41/60], Loss: 0.0260, Acc: 0.9551, Val_Loss: 0.2157, Val_Acc: 0.7463\n",
      "Checkpoint saved at epoch 41\n",
      "Updated Learning Rate: 0.000059\n",
      "Epoch [42/60] training...\n"
     ]
    },
    {
     "name": "stderr",
     "output_type": "stream",
     "text": [
      "                                                                                                                  \r"
     ]
    },
    {
     "name": "stdout",
     "output_type": "stream",
     "text": [
      "Evaluating on validation set...\n",
      "Epoch [42/60], Loss: 0.0256, Acc: 0.9572, Val_Loss: 0.1944, Val_Acc: 0.7474\n",
      "Checkpoint saved at epoch 42\n",
      "Updated Learning Rate: 0.000059\n",
      "Epoch [43/60] training...\n"
     ]
    },
    {
     "name": "stderr",
     "output_type": "stream",
     "text": [
      "                                                                                                                  \r"
     ]
    },
    {
     "name": "stdout",
     "output_type": "stream",
     "text": [
      "Evaluating on validation set...\n",
      "Epoch [43/60], Loss: 0.0252, Acc: 0.9588, Val_Loss: 0.2150, Val_Acc: 0.7368\n",
      "Checkpoint saved at epoch 43\n",
      "Updated Learning Rate: 0.000059\n",
      "Epoch [44/60] training...\n"
     ]
    },
    {
     "name": "stderr",
     "output_type": "stream",
     "text": [
      "                                                                                                                  \r"
     ]
    },
    {
     "name": "stdout",
     "output_type": "stream",
     "text": [
      "Evaluating on validation set...\n",
      "Epoch [44/60], Loss: 0.0257, Acc: 0.9581, Val_Loss: 0.2236, Val_Acc: 0.7232\n",
      "Checkpoint saved at epoch 44\n",
      "Updated Learning Rate: 0.000056\n",
      "Epoch [45/60] training...\n"
     ]
    },
    {
     "name": "stderr",
     "output_type": "stream",
     "text": [
      "                                                                                                                  \r"
     ]
    },
    {
     "name": "stdout",
     "output_type": "stream",
     "text": [
      "Evaluating on validation set...\n",
      "Epoch [45/60], Loss: 0.0246, Acc: 0.9599, Val_Loss: 0.2371, Val_Acc: 0.7263\n",
      "Checkpoint saved at epoch 45\n",
      "Updated Learning Rate: 0.000056\n",
      "Epoch [46/60] training...\n"
     ]
    },
    {
     "name": "stderr",
     "output_type": "stream",
     "text": [
      "                                                                                                                  \r"
     ]
    },
    {
     "name": "stdout",
     "output_type": "stream",
     "text": [
      "Evaluating on validation set...\n",
      "Epoch [46/60], Loss: 0.0244, Acc: 0.9595, Val_Loss: 0.2006, Val_Acc: 0.7579\n",
      "🔥 New best model with val_accuracy: 0.7579 🔥\n",
      "Checkpoint saved at epoch 46\n",
      "Updated Learning Rate: 0.000056\n",
      "Epoch [47/60] training...\n"
     ]
    },
    {
     "name": "stderr",
     "output_type": "stream",
     "text": [
      "                                                                                                                  \r"
     ]
    },
    {
     "name": "stdout",
     "output_type": "stream",
     "text": [
      "Evaluating on validation set...\n",
      "Epoch [47/60], Loss: 0.0191, Acc: 0.9695, Val_Loss: 0.2277, Val_Acc: 0.7421\n",
      "Checkpoint saved at epoch 47\n",
      "Updated Learning Rate: 0.000056\n",
      "Epoch [48/60] training...\n"
     ]
    },
    {
     "name": "stderr",
     "output_type": "stream",
     "text": [
      "                                                                                                                  \r"
     ]
    },
    {
     "name": "stdout",
     "output_type": "stream",
     "text": [
      "Evaluating on validation set...\n",
      "Epoch [48/60], Loss: 0.0190, Acc: 0.9688, Val_Loss: 0.2130, Val_Acc: 0.7474\n",
      "Checkpoint saved at epoch 48\n",
      "Updated Learning Rate: 0.000056\n",
      "Epoch [49/60] training...\n"
     ]
    },
    {
     "name": "stderr",
     "output_type": "stream",
     "text": [
      "                                                                                                                  \r"
     ]
    },
    {
     "name": "stdout",
     "output_type": "stream",
     "text": [
      "Evaluating on validation set...\n",
      "Epoch [49/60], Loss: 0.0192, Acc: 0.9686, Val_Loss: 0.2110, Val_Acc: 0.7484\n",
      "Checkpoint saved at epoch 49\n",
      "Updated Learning Rate: 0.000054\n",
      "Epoch [50/60] training...\n"
     ]
    },
    {
     "name": "stderr",
     "output_type": "stream",
     "text": [
      "                                                                                                                  \r"
     ]
    },
    {
     "name": "stdout",
     "output_type": "stream",
     "text": [
      "Evaluating on validation set...\n",
      "Epoch [50/60], Loss: 0.0171, Acc: 0.9727, Val_Loss: 0.2530, Val_Acc: 0.7189\n",
      "Checkpoint saved at epoch 50\n",
      "Updated Learning Rate: 0.000054\n",
      "Epoch [51/60] training...\n"
     ]
    },
    {
     "name": "stderr",
     "output_type": "stream",
     "text": [
      "                                                                                                                  \r"
     ]
    },
    {
     "name": "stdout",
     "output_type": "stream",
     "text": [
      "Evaluating on validation set...\n",
      "Epoch [51/60], Loss: 0.0188, Acc: 0.9705, Val_Loss: 0.2132, Val_Acc: 0.7632\n",
      "🔥 New best model with val_accuracy: 0.7632 🔥\n",
      "Checkpoint saved at epoch 51\n",
      "Updated Learning Rate: 0.000054\n",
      "Epoch [52/60] training...\n"
     ]
    },
    {
     "name": "stderr",
     "output_type": "stream",
     "text": [
      "                                                                                                                  \r"
     ]
    },
    {
     "name": "stdout",
     "output_type": "stream",
     "text": [
      "Evaluating on validation set...\n",
      "Epoch [52/60], Loss: 0.0157, Acc: 0.9750, Val_Loss: 0.2312, Val_Acc: 0.7337\n",
      "Checkpoint saved at epoch 52\n",
      "Updated Learning Rate: 0.000054\n",
      "Epoch [53/60] training...\n"
     ]
    },
    {
     "name": "stderr",
     "output_type": "stream",
     "text": [
      "                                                                                                                  \r"
     ]
    },
    {
     "name": "stdout",
     "output_type": "stream",
     "text": [
      "Evaluating on validation set...\n",
      "Epoch [53/60], Loss: 0.0171, Acc: 0.9714, Val_Loss: 0.2177, Val_Acc: 0.7484\n",
      "Checkpoint saved at epoch 53\n",
      "Updated Learning Rate: 0.000054\n",
      "Epoch [54/60] training...\n"
     ]
    },
    {
     "name": "stderr",
     "output_type": "stream",
     "text": [
      "                                                                                                                  \r"
     ]
    },
    {
     "name": "stdout",
     "output_type": "stream",
     "text": [
      "Evaluating on validation set...\n",
      "Epoch [54/60], Loss: 0.0146, Acc: 0.9772, Val_Loss: 0.2266, Val_Acc: 0.7474\n",
      "Checkpoint saved at epoch 54\n",
      "Updated Learning Rate: 0.000051\n",
      "Epoch [55/60] training...\n"
     ]
    },
    {
     "name": "stderr",
     "output_type": "stream",
     "text": [
      "                                                                                                                  \r"
     ]
    },
    {
     "name": "stdout",
     "output_type": "stream",
     "text": [
      "Evaluating on validation set...\n",
      "Epoch [55/60], Loss: 0.0145, Acc: 0.9779, Val_Loss: 0.2536, Val_Acc: 0.7389\n",
      "Checkpoint saved at epoch 55\n",
      "Updated Learning Rate: 0.000051\n",
      "Epoch [56/60] training...\n"
     ]
    },
    {
     "name": "stderr",
     "output_type": "stream",
     "text": [
      "                                                                                                                  \r"
     ]
    },
    {
     "name": "stdout",
     "output_type": "stream",
     "text": [
      "Evaluating on validation set...\n",
      "Epoch [56/60], Loss: 0.0152, Acc: 0.9767, Val_Loss: 0.2163, Val_Acc: 0.7421\n",
      "Checkpoint saved at epoch 56\n",
      "Updated Learning Rate: 0.000051\n",
      "Epoch [57/60] training...\n"
     ]
    },
    {
     "name": "stderr",
     "output_type": "stream",
     "text": [
      "                                                                                                                  \r"
     ]
    },
    {
     "name": "stdout",
     "output_type": "stream",
     "text": [
      "Evaluating on validation set...\n",
      "Epoch [57/60], Loss: 0.0152, Acc: 0.9762, Val_Loss: 0.2436, Val_Acc: 0.7189\n",
      "Checkpoint saved at epoch 57\n",
      "Updated Learning Rate: 0.000051\n",
      "Epoch [58/60] training...\n"
     ]
    },
    {
     "name": "stderr",
     "output_type": "stream",
     "text": [
      "                                                                                                                  \r"
     ]
    },
    {
     "name": "stdout",
     "output_type": "stream",
     "text": [
      "Evaluating on validation set...\n",
      "Epoch [58/60], Loss: 0.0148, Acc: 0.9773, Val_Loss: 0.2120, Val_Acc: 0.7368\n",
      "Checkpoint saved at epoch 58\n",
      "Updated Learning Rate: 0.000051\n",
      "Epoch [59/60] training...\n"
     ]
    },
    {
     "name": "stderr",
     "output_type": "stream",
     "text": [
      "                                                                                                                  \r"
     ]
    },
    {
     "name": "stdout",
     "output_type": "stream",
     "text": [
      "Evaluating on validation set...\n",
      "Epoch [59/60], Loss: 0.0151, Acc: 0.9768, Val_Loss: 0.2267, Val_Acc: 0.7474\n",
      "Checkpoint saved at epoch 59\n",
      "Updated Learning Rate: 0.000048\n",
      "Epoch [60/60] training...\n"
     ]
    },
    {
     "name": "stderr",
     "output_type": "stream",
     "text": [
      "                                                                                                                  \r"
     ]
    },
    {
     "name": "stdout",
     "output_type": "stream",
     "text": [
      "Evaluating on validation set...\n",
      "Epoch [60/60], Loss: 0.0145, Acc: 0.9771, Val_Loss: 0.2193, Val_Acc: 0.7537\n",
      "Checkpoint saved at epoch 60\n",
      "Updated Learning Rate: 0.000048\n"
     ]
    }
   ],
   "source": [
    "from torch.optim.lr_scheduler import StepLR\n",
    "\n",
    "# 학습 실행\n",
    "num_epochs = 20+40\n",
    "device = torch.device('cuda' if torch.cuda.is_available() else 'cpu')\n",
    "\n",
    "# 모델, 옵티마이저 설정\n",
    "model = ResNet101Classifier(num_classes=len(label_to_multihot[0]))\n",
    "model = model.to(device)\n",
    "optimizer = optim.Adam(model.parameters(), lr=0.0001)\n",
    "\n",
    "# 학습률 스케줄러 추가\n",
    "# scheduler = lr_scheduler.ReduceLROnPlateau(optimizer, mode='min', factor=0.8, patience=3, min_lr=0.000001)\n",
    "scheduler = StepLR(optimizer, step_size=5, gamma=0.95)\n",
    "\n",
    "filename = \"checkpoint_0322_v3_resnet101/checkpoint.pth\"\n",
    "\n",
    "# 학습 및 평가 시작\n",
    "trained_model, history = train_and_evaluate(model, train_loader, test_loader, optimizer, num_epochs, device, scheduler, filename)"
   ]
  },
  {
   "cell_type": "markdown",
   "id": "e151126d-64fa-41d1-b948-2c4680fcef7a",
   "metadata": {},
   "source": [
    "# result - best val_accuracy: 0.7632"
   ]
  },
  {
   "cell_type": "code",
   "execution_count": 21,
   "id": "4c62beca-7ec0-4685-a17e-c27f026ea067",
   "metadata": {},
   "outputs": [
    {
     "data": {
      "image/png": "[encoded data removed]",
      "text/plain": [
       "<Figure size 1200x500 with 2 Axes>"
      ]
     },
     "metadata": {},
     "output_type": "display_data"
    }
   ],
   "source": [
    "plot_history(history)"
   ]
  }
 ],
 "metadata": {
  "kernelspec": {
   "display_name": "Python 3 (ipykernel)",
   "language": "python",
   "name": "python3"
  },
  "language_info": {
   "codemirror_mode": {
    "name": "ipython",
    "version": 3
   },
   "file_extension": ".py",
   "mimetype": "text/x-python",
   "name": "python",
   "nbconvert_exporter": "python",
   "pygments_lexer": "ipython3",
   "version": "3.11.11"
  }
 },
 "nbformat": 4,
 "nbformat_minor": 5
}
